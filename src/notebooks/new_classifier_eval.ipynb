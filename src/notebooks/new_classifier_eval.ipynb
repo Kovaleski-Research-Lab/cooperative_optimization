{
 "cells": [
  {
   "cell_type": "code",
   "execution_count": 55,
   "id": "88f67ad7-a6c3-4d59-99cd-124b1ac98301",
   "metadata": {},
   "outputs": [],
   "source": [
    "import numpy as np\n",
    "import torch\n",
    "import matplotlib.pyplot as plt\n",
    "import os\n",
    "import sys\n",
    "import seaborn as sns\n",
    "import pandas as pd\n",
    "import csv"
   ]
  },
  {
   "cell_type": "code",
   "execution_count": 56,
   "id": "48fdf63b-4e19-4a12-9721-d41c5a4cb496",
   "metadata": {},
   "outputs": [
    {
     "name": "stdout",
     "output_type": "stream",
     "text": [
      "['Solarize_Light2', '_classic_test_patch', '_mpl-gallery', '_mpl-gallery-nogrid', 'bmh', 'classic', 'dark_background', 'fast', 'fivethirtyeight', 'ggplot', 'grayscale', 'seaborn-v0_8', 'seaborn-v0_8-bright', 'seaborn-v0_8-colorblind', 'seaborn-v0_8-dark', 'seaborn-v0_8-dark-palette', 'seaborn-v0_8-darkgrid', 'seaborn-v0_8-deep', 'seaborn-v0_8-muted', 'seaborn-v0_8-notebook', 'seaborn-v0_8-paper', 'seaborn-v0_8-pastel', 'seaborn-v0_8-poster', 'seaborn-v0_8-talk', 'seaborn-v0_8-ticks', 'seaborn-v0_8-white', 'seaborn-v0_8-whitegrid', 'tableau-colorblind10']\n"
     ]
    }
   ],
   "source": [
    "print(plt.style.available)\n",
    "plt.style.use('seaborn-v0_8-dark-palette')"
   ]
  },
  {
   "cell_type": "code",
   "execution_count": 57,
   "id": "1875f25a-0433-4fc3-844c-d9ee10a0182b",
   "metadata": {},
   "outputs": [],
   "source": [
    "label_map = {'version_2' : 'npt', 'version_3': 'pt', 'version_4': 'pt_fb'}"
   ]
  },
  {
   "cell_type": "code",
   "execution_count": 58,
   "id": "f929e1a2-f5a4-4395-9619-924b44fc7de2",
   "metadata": {},
   "outputs": [],
   "source": [
    "path_results = '../../results/'\n",
    "path_ideal_models = os.path.join(path_results, 'classifier_baseline_bench_resampled_sample')\n",
    "path_sim_models = os.path.join(path_results, 'classifier_baseline_bench_sim_output')\n",
    "path_bench_models = os.path.join(path_results, 'classifier_baseline_bench_bench_image')"
   ]
  },
  {
   "cell_type": "code",
   "execution_count": 80,
   "id": "616b4685-7fe1-4a19-9f09-9cf4c12ba140",
   "metadata": {},
   "outputs": [],
   "source": [
    "f1_scores = { 'ideal':{}, 'bench': {}, 'sim': {}}\n",
    "\n",
    "for version, label in label_map.items():\n",
    "    f1 = torch.load(os.path.join(path_ideal_models, version, 'classifier_eval/f1_scores.pt'), weights_only=True)\n",
    "    f1_scores['ideal'][label_map[version]] = f1\n",
    "\n",
    "    f1 = torch.load(os.path.join(path_bench_models, version, 'classifier_eval/f1_scores.pt'), weights_only=True)\n",
    "    f1_scores['bench'][label_map[version]] = f1\n",
    "\n",
    "    f1 = torch.load(os.path.join(path_sim_models, version, 'classifier_eval/f1_scores.pt'), weights_only=True)\n",
    "    f1_scores['sim'][label_map[version]] = f1"
   ]
  },
  {
   "cell_type": "code",
   "execution_count": 86,
   "id": "5546c5c0-db2e-4523-bd83-ea49f315fd27",
   "metadata": {},
   "outputs": [
    {
     "data": {
      "text/plain": [
       "tensor(0.8850)"
      ]
     },
     "execution_count": 86,
     "metadata": {},
     "output_type": "execute_result"
    }
   ],
   "source": [
    "f1_scores['ideal']['npt']['f1_ideal_train']"
   ]
  },
  {
   "cell_type": "code",
   "execution_count": 66,
   "id": "8df6969b-18a5-46a5-8d13-0af1cd415c0e",
   "metadata": {},
   "outputs": [],
   "source": [
    "f1_score = torch.load(os.path.join(path_ideal_models, 'version_3', 'classifier_eval/f1_scores.pt'), weights_only=True)"
   ]
  },
  {
   "cell_type": "code",
   "execution_count": 67,
   "id": "e94b02c0-8cff-439b-ae5f-f0e5721fda3f",
   "metadata": {},
   "outputs": [
    {
     "data": {
      "text/plain": [
       "tensor(0.9787)"
      ]
     },
     "execution_count": 67,
     "metadata": {},
     "output_type": "execute_result"
    }
   ],
   "source": [
    "f1_score['f1_ideal_train']"
   ]
  },
  {
   "cell_type": "code",
   "execution_count": 78,
   "id": "d964019c-ae09-432a-b402-83ace792f975",
   "metadata": {},
   "outputs": [],
   "source": [
    "path_metrics = os.path.join(path_ideal_models, 'version_3', 'logs', 'metrics.csv')\n",
    "metrics = {}\n",
    "try:\n",
    "    with open(path_metrics) as csvfile:\n",
    "        reader = csv.reader(csvfile, delimiter=',')\n",
    "        for i,row in enumerate(reader):\n",
    "            if i == 0:\n",
    "                for header in row:\n",
    "                    metrics[header] = []\n",
    "                key_list = list(metrics.keys())\n",
    "            else:\n",
    "                for j,value in enumerate(row):\n",
    "                    metrics[key_list[j]].append(value)\n",
    "except:\n",
    "    pass\n",
    "metrics['epoch'] = np.unique(np.asarray(metrics['epoch'], dtype=int))\n",
    "metrics['loss_train'] = np.asarray([float(i) for i in metrics['loss_train'] if i != ''])\n",
    "metrics['loss_val'] = np.asarray([float(i) for i in metrics['loss_val'] if i != ''])"
   ]
  },
  {
   "cell_type": "code",
   "execution_count": 79,
   "id": "0b0028e2-d213-4943-a965-34586ce4be2c",
   "metadata": {},
   "outputs": [
    {
     "data": {
      "text/plain": [
       "[<matplotlib.lines.Line2D at 0x7fbf801536b0>]"
      ]
     },
     "execution_count": 79,
     "metadata": {},
     "output_type": "execute_result"
    },
    {
     "data": {
      "image/png": "[encoded data removed]",
      "text/plain": [
       "<Figure size 640x480 with 1 Axes>"
      ]
     },
     "metadata": {},
     "output_type": "display_data"
    }
   ],
   "source": [
    "plt.plot(metrics['epoch'], metrics['loss_val'])"
   ]
  },
  {
   "cell_type": "code",
   "execution_count": 26,
   "id": "f03cfb2a-b000-401f-9b59-fed51ec3f0f5",
   "metadata": {},
   "outputs": [],
   "source": [
    "train_predictions = torch.load(os.path.join(path_ideal_models, version, 'classifier_eval/train_predictions.pt'), weights_only = True)"
   ]
  },
  {
   "cell_type": "code",
   "execution_count": 32,
   "id": "58afbba3-691a-4f4d-add4-193fd1f425ef",
   "metadata": {
    "scrolled": true
   },
   "outputs": [
    {
     "ename": "ModuleNotFoundError",
     "evalue": "No module named 'models'",
     "output_type": "error",
     "traceback": [
      "\u001b[0;31m---------------------------------------------------------------------------\u001b[0m",
      "\u001b[0;31mModuleNotFoundError\u001b[0m                       Traceback (most recent call last)",
      "Cell \u001b[0;32mIn[32], line 1\u001b[0m\n\u001b[0;32m----> 1\u001b[0m \u001b[38;5;28;01mfrom\u001b[39;00m \u001b[38;5;21;01mmodels\u001b[39;00m\u001b[38;5;21;01m.\u001b[39;00m\u001b[38;5;21;01mmodels\u001b[39;00m \u001b[38;5;28;01mimport\u001b[39;00m Classifier\n",
      "\u001b[0;31mModuleNotFoundError\u001b[0m: No module named 'models'"
     ]
    }
   ],
   "source": [
    "from models.models import Classifier"
   ]
  },
  {
   "cell_type": "code",
   "execution_count": 28,
   "id": "4b52901e-0c58-4146-8be0-b7571e58d5ac",
   "metadata": {},
   "outputs": [],
   "source": [
    "test_values = torch.load('../../data/baseline/baseline_train_0000.pt', weights_only=True)"
   ]
  },
  {
   "cell_type": "code",
   "execution_count": 29,
   "id": "bc7f5563-1ca7-44ba-873d-1f13ab44e989",
   "metadata": {},
   "outputs": [],
   "source": [
    "target = test_values['target']"
   ]
  },
  {
   "cell_type": "code",
   "execution_count": 30,
   "id": "f4b383da-0c40-42dd-b37f-aa8ea91b8f7d",
   "metadata": {},
   "outputs": [
    {
     "data": {
      "text/plain": [
       "tensor([[0, 0, 0, 0, 1, 0, 0, 0, 0, 0]])"
      ]
     },
     "execution_count": 30,
     "metadata": {},
     "output_type": "execute_result"
    }
   ],
   "source": [
    "target"
   ]
  },
  {
   "cell_type": "code",
   "execution_count": 31,
   "id": "5da9e546-091d-47d7-97f8-55a7de1da05a",
   "metadata": {},
   "outputs": [
    {
     "data": {
      "text/plain": [
       "tensor([4])"
      ]
     },
     "execution_count": 31,
     "metadata": {},
     "output_type": "execute_result"
    }
   ],
   "source": [
    "torch.argmax(target, dim=-1)"
   ]
  },
  {
   "cell_type": "code",
   "execution_count": 33,
   "id": "3d4f3fe6-1b49-4cf3-b206-32d7f9d6939c",
   "metadata": {},
   "outputs": [],
   "source": [
    "sys.path.append('../')\n",
    "from models.models import Classifier"
   ]
  },
  {
   "cell_type": "code",
   "execution_count": 49,
   "id": "1cc6c36b-4694-49ba-94e9-65cdf8917d4d",
   "metadata": {},
   "outputs": [
    {
     "name": "stderr",
     "output_type": "stream",
     "text": [
      "\u001b[32m2024-11-25 18:18:48.837\u001b[0m | \u001b[1mINFO    \u001b[0m | \u001b[36mmodels.models\u001b[0m:\u001b[36mselect_model\u001b[0m:\u001b[36m59\u001b[0m - \u001b[1mTraining from scratch\u001b[0m\n",
      "\u001b[32m2024-11-25 18:18:48.915\u001b[0m | \u001b[1mINFO    \u001b[0m | \u001b[36mmodels.models\u001b[0m:\u001b[36mselect_model\u001b[0m:\u001b[36m83\u001b[0m - \u001b[1mTraining backbone\u001b[0m\n"
     ]
    }
   ],
   "source": [
    "classifier = Classifier.load_from_checkpoint('../../results/classifier_baseline_bench_resampled_sample/version_2/checkpoints/last.ckpt').cpu()"
   ]
  },
  {
   "cell_type": "code",
   "execution_count": 50,
   "id": "5f892350-0e4c-4832-a862-f8b958406010",
   "metadata": {},
   "outputs": [],
   "source": [
    "sample = test_values['resampled_sample'].unsqueeze(0).unsqueeze(0).cpu()"
   ]
  },
  {
   "cell_type": "code",
   "execution_count": 51,
   "id": "586c0db3-5e33-4a2b-9aaa-15f095d7f15d",
   "metadata": {},
   "outputs": [
    {
     "data": {
      "text/plain": [
       "torch.Size([1, 1, 1080, 1920])"
      ]
     },
     "execution_count": 51,
     "metadata": {},
     "output_type": "execute_result"
    }
   ],
   "source": [
    "sample.shape"
   ]
  },
  {
   "cell_type": "code",
   "execution_count": 53,
   "id": "4a25574d-4c4d-4772-a5a5-1dff4933617b",
   "metadata": {},
   "outputs": [],
   "source": [
    "output = classifier(torch.cat([sample, sample, sample], dim=1))"
   ]
  },
  {
   "cell_type": "code",
   "execution_count": 54,
   "id": "e6ce5f06-6291-4ef6-9fc4-fb9aa0be123e",
   "metadata": {},
   "outputs": [
    {
     "data": {
      "text/plain": [
       "tensor([4])"
      ]
     },
     "execution_count": 54,
     "metadata": {},
     "output_type": "execute_result"
    }
   ],
   "source": [
    "torch.argmax(output, dim=-1)"
   ]
  },
  {
   "cell_type": "code",
   "execution_count": 89,
   "id": "3224b038-924b-4636-add5-611a6be13875",
   "metadata": {},
   "outputs": [],
   "source": [
    "import pandas as pd\n",
    "\n",
    "# Assuming f1_scores is your dictionary\n",
    "data = []\n",
    "\n",
    "# Loop through the dictionary to collect data\n",
    "for train_dataset in f1_scores.keys():\n",
    "    for model_version in f1_scores[train_dataset].keys():\n",
    "        for eval_key in f1_scores[train_dataset][model_version].keys():\n",
    "            f1_value = f1_scores[train_dataset][model_version][eval_key]\n",
    "            # Split the key to get eval_dataset and split (train/valid)\n",
    "            _, eval_dataset, split = eval_key.split('_')  # e.g., 'f1_ideal_train' -> ['f1', 'ideal', 'train']\n",
    "            data.append({\n",
    "                'TrainDataset': train_dataset,\n",
    "                'ModelVersion': model_version,\n",
    "                'EvalDataset': eval_dataset,\n",
    "                'Split': split,\n",
    "                'F1Score': f1_value.item()  # Convert tensor to scalar\n",
    "            })\n",
    "\n"
   ]
  },
  {
   "cell_type": "code",
   "execution_count": 90,
   "id": "c64a14b7-95e2-4426-a0e3-3851954d55af",
   "metadata": {
    "scrolled": true
   },
   "outputs": [
    {
     "data": {
      "text/plain": [
       "[{'TrainDataset': 'ideal',\n",
       "  'ModelVersion': 'npt',\n",
       "  'EvalDataset': 'ideal',\n",
       "  'Split': 'train',\n",
       "  'F1Score': 0.8849999904632568},\n",
       " {'TrainDataset': 'ideal',\n",
       "  'ModelVersion': 'npt',\n",
       "  'EvalDataset': 'bench',\n",
       "  'Split': 'train',\n",
       "  'F1Score': 0.32124999165534973},\n",
       " {'TrainDataset': 'ideal',\n",
       "  'ModelVersion': 'npt',\n",
       "  'EvalDataset': 'sim',\n",
       "  'Split': 'train',\n",
       "  'F1Score': 0.8287500143051147},\n",
       " {'TrainDataset': 'ideal',\n",
       "  'ModelVersion': 'npt',\n",
       "  'EvalDataset': 'ideal',\n",
       "  'Split': 'valid',\n",
       "  'F1Score': 0.8500000238418579},\n",
       " {'TrainDataset': 'ideal',\n",
       "  'ModelVersion': 'npt',\n",
       "  'EvalDataset': 'bench',\n",
       "  'Split': 'valid',\n",
       "  'F1Score': 0.28999999165534973},\n",
       " {'TrainDataset': 'ideal',\n",
       "  'ModelVersion': 'npt',\n",
       "  'EvalDataset': 'sim',\n",
       "  'Split': 'valid',\n",
       "  'F1Score': 0.800000011920929},\n",
       " {'TrainDataset': 'ideal',\n",
       "  'ModelVersion': 'pt',\n",
       "  'EvalDataset': 'ideal',\n",
       "  'Split': 'train',\n",
       "  'F1Score': 0.9787499904632568},\n",
       " {'TrainDataset': 'ideal',\n",
       "  'ModelVersion': 'pt',\n",
       "  'EvalDataset': 'bench',\n",
       "  'Split': 'train',\n",
       "  'F1Score': 0.42750000953674316},\n",
       " {'TrainDataset': 'ideal',\n",
       "  'ModelVersion': 'pt',\n",
       "  'EvalDataset': 'sim',\n",
       "  'Split': 'train',\n",
       "  'F1Score': 0.9437500238418579},\n",
       " {'TrainDataset': 'ideal',\n",
       "  'ModelVersion': 'pt',\n",
       "  'EvalDataset': 'ideal',\n",
       "  'Split': 'valid',\n",
       "  'F1Score': 0.9399999976158142},\n",
       " {'TrainDataset': 'ideal',\n",
       "  'ModelVersion': 'pt',\n",
       "  'EvalDataset': 'bench',\n",
       "  'Split': 'valid',\n",
       "  'F1Score': 0.4000000059604645},\n",
       " {'TrainDataset': 'ideal',\n",
       "  'ModelVersion': 'pt',\n",
       "  'EvalDataset': 'sim',\n",
       "  'Split': 'valid',\n",
       "  'F1Score': 0.9049999713897705},\n",
       " {'TrainDataset': 'ideal',\n",
       "  'ModelVersion': 'pt_fb',\n",
       "  'EvalDataset': 'ideal',\n",
       "  'Split': 'train',\n",
       "  'F1Score': 0.26374998688697815},\n",
       " {'TrainDataset': 'ideal',\n",
       "  'ModelVersion': 'pt_fb',\n",
       "  'EvalDataset': 'bench',\n",
       "  'Split': 'train',\n",
       "  'F1Score': 0.08375000208616257},\n",
       " {'TrainDataset': 'ideal',\n",
       "  'ModelVersion': 'pt_fb',\n",
       "  'EvalDataset': 'sim',\n",
       "  'Split': 'train',\n",
       "  'F1Score': 0.09749999642372131},\n",
       " {'TrainDataset': 'ideal',\n",
       "  'ModelVersion': 'pt_fb',\n",
       "  'EvalDataset': 'ideal',\n",
       "  'Split': 'valid',\n",
       "  'F1Score': 0.2800000011920929},\n",
       " {'TrainDataset': 'ideal',\n",
       "  'ModelVersion': 'pt_fb',\n",
       "  'EvalDataset': 'bench',\n",
       "  'Split': 'valid',\n",
       "  'F1Score': 0.16500000655651093},\n",
       " {'TrainDataset': 'ideal',\n",
       "  'ModelVersion': 'pt_fb',\n",
       "  'EvalDataset': 'sim',\n",
       "  'Split': 'valid',\n",
       "  'F1Score': 0.1550000011920929},\n",
       " {'TrainDataset': 'bench',\n",
       "  'ModelVersion': 'npt',\n",
       "  'EvalDataset': 'ideal',\n",
       "  'Split': 'train',\n",
       "  'F1Score': 0.22750000655651093},\n",
       " {'TrainDataset': 'bench',\n",
       "  'ModelVersion': 'npt',\n",
       "  'EvalDataset': 'bench',\n",
       "  'Split': 'train',\n",
       "  'F1Score': 0.9762499928474426},\n",
       " {'TrainDataset': 'bench',\n",
       "  'ModelVersion': 'npt',\n",
       "  'EvalDataset': 'sim',\n",
       "  'Split': 'train',\n",
       "  'F1Score': 0.22499999403953552},\n",
       " {'TrainDataset': 'bench',\n",
       "  'ModelVersion': 'npt',\n",
       "  'EvalDataset': 'ideal',\n",
       "  'Split': 'valid',\n",
       "  'F1Score': 0.1550000011920929},\n",
       " {'TrainDataset': 'bench',\n",
       "  'ModelVersion': 'npt',\n",
       "  'EvalDataset': 'bench',\n",
       "  'Split': 'valid',\n",
       "  'F1Score': 0.875},\n",
       " {'TrainDataset': 'bench',\n",
       "  'ModelVersion': 'npt',\n",
       "  'EvalDataset': 'sim',\n",
       "  'Split': 'valid',\n",
       "  'F1Score': 0.1550000011920929},\n",
       " {'TrainDataset': 'bench',\n",
       "  'ModelVersion': 'pt',\n",
       "  'EvalDataset': 'ideal',\n",
       "  'Split': 'train',\n",
       "  'F1Score': 0.3137499988079071},\n",
       " {'TrainDataset': 'bench',\n",
       "  'ModelVersion': 'pt',\n",
       "  'EvalDataset': 'bench',\n",
       "  'Split': 'train',\n",
       "  'F1Score': 0.987500011920929},\n",
       " {'TrainDataset': 'bench',\n",
       "  'ModelVersion': 'pt',\n",
       "  'EvalDataset': 'sim',\n",
       "  'Split': 'train',\n",
       "  'F1Score': 0.32374998927116394},\n",
       " {'TrainDataset': 'bench',\n",
       "  'ModelVersion': 'pt',\n",
       "  'EvalDataset': 'ideal',\n",
       "  'Split': 'valid',\n",
       "  'F1Score': 0.2750000059604645},\n",
       " {'TrainDataset': 'bench',\n",
       "  'ModelVersion': 'pt',\n",
       "  'EvalDataset': 'bench',\n",
       "  'Split': 'valid',\n",
       "  'F1Score': 0.9449999928474426},\n",
       " {'TrainDataset': 'bench',\n",
       "  'ModelVersion': 'pt',\n",
       "  'EvalDataset': 'sim',\n",
       "  'Split': 'valid',\n",
       "  'F1Score': 0.2750000059604645},\n",
       " {'TrainDataset': 'bench',\n",
       "  'ModelVersion': 'pt_fb',\n",
       "  'EvalDataset': 'ideal',\n",
       "  'Split': 'train',\n",
       "  'F1Score': 0.08375000208616257},\n",
       " {'TrainDataset': 'bench',\n",
       "  'ModelVersion': 'pt_fb',\n",
       "  'EvalDataset': 'bench',\n",
       "  'Split': 'train',\n",
       "  'F1Score': 0.14124999940395355},\n",
       " {'TrainDataset': 'bench',\n",
       "  'ModelVersion': 'pt_fb',\n",
       "  'EvalDataset': 'sim',\n",
       "  'Split': 'train',\n",
       "  'F1Score': 0.08375000208616257},\n",
       " {'TrainDataset': 'bench',\n",
       "  'ModelVersion': 'pt_fb',\n",
       "  'EvalDataset': 'ideal',\n",
       "  'Split': 'valid',\n",
       "  'F1Score': 0.16500000655651093},\n",
       " {'TrainDataset': 'bench',\n",
       "  'ModelVersion': 'pt_fb',\n",
       "  'EvalDataset': 'bench',\n",
       "  'Split': 'valid',\n",
       "  'F1Score': 0.08500000089406967},\n",
       " {'TrainDataset': 'bench',\n",
       "  'ModelVersion': 'pt_fb',\n",
       "  'EvalDataset': 'sim',\n",
       "  'Split': 'valid',\n",
       "  'F1Score': 0.16500000655651093},\n",
       " {'TrainDataset': 'sim',\n",
       "  'ModelVersion': 'npt',\n",
       "  'EvalDataset': 'ideal',\n",
       "  'Split': 'train',\n",
       "  'F1Score': 0.84375},\n",
       " {'TrainDataset': 'sim',\n",
       "  'ModelVersion': 'npt',\n",
       "  'EvalDataset': 'bench',\n",
       "  'Split': 'train',\n",
       "  'F1Score': 0.41499999165534973},\n",
       " {'TrainDataset': 'sim',\n",
       "  'ModelVersion': 'npt',\n",
       "  'EvalDataset': 'sim',\n",
       "  'Split': 'train',\n",
       "  'F1Score': 0.9100000262260437},\n",
       " {'TrainDataset': 'sim',\n",
       "  'ModelVersion': 'npt',\n",
       "  'EvalDataset': 'ideal',\n",
       "  'Split': 'valid',\n",
       "  'F1Score': 0.7599999904632568},\n",
       " {'TrainDataset': 'sim',\n",
       "  'ModelVersion': 'npt',\n",
       "  'EvalDataset': 'bench',\n",
       "  'Split': 'valid',\n",
       "  'F1Score': 0.3499999940395355},\n",
       " {'TrainDataset': 'sim',\n",
       "  'ModelVersion': 'npt',\n",
       "  'EvalDataset': 'sim',\n",
       "  'Split': 'valid',\n",
       "  'F1Score': 0.8550000190734863},\n",
       " {'TrainDataset': 'sim',\n",
       "  'ModelVersion': 'pt',\n",
       "  'EvalDataset': 'ideal',\n",
       "  'Split': 'train',\n",
       "  'F1Score': 0.9037500023841858},\n",
       " {'TrainDataset': 'sim',\n",
       "  'ModelVersion': 'pt',\n",
       "  'EvalDataset': 'bench',\n",
       "  'Split': 'train',\n",
       "  'F1Score': 0.6837499737739563},\n",
       " {'TrainDataset': 'sim',\n",
       "  'ModelVersion': 'pt',\n",
       "  'EvalDataset': 'sim',\n",
       "  'Split': 'train',\n",
       "  'F1Score': 0.9075000286102295},\n",
       " {'TrainDataset': 'sim',\n",
       "  'ModelVersion': 'pt',\n",
       "  'EvalDataset': 'ideal',\n",
       "  'Split': 'valid',\n",
       "  'F1Score': 0.824999988079071},\n",
       " {'TrainDataset': 'sim',\n",
       "  'ModelVersion': 'pt',\n",
       "  'EvalDataset': 'bench',\n",
       "  'Split': 'valid',\n",
       "  'F1Score': 0.550000011920929},\n",
       " {'TrainDataset': 'sim',\n",
       "  'ModelVersion': 'pt',\n",
       "  'EvalDataset': 'sim',\n",
       "  'Split': 'valid',\n",
       "  'F1Score': 0.8299999833106995},\n",
       " {'TrainDataset': 'sim',\n",
       "  'ModelVersion': 'pt_fb',\n",
       "  'EvalDataset': 'ideal',\n",
       "  'Split': 'train',\n",
       "  'F1Score': 0.14499999582767487},\n",
       " {'TrainDataset': 'sim',\n",
       "  'ModelVersion': 'pt_fb',\n",
       "  'EvalDataset': 'bench',\n",
       "  'Split': 'train',\n",
       "  'F1Score': 0.08375000208616257},\n",
       " {'TrainDataset': 'sim',\n",
       "  'ModelVersion': 'pt_fb',\n",
       "  'EvalDataset': 'sim',\n",
       "  'Split': 'train',\n",
       "  'F1Score': 0.33250001072883606},\n",
       " {'TrainDataset': 'sim',\n",
       "  'ModelVersion': 'pt_fb',\n",
       "  'EvalDataset': 'ideal',\n",
       "  'Split': 'valid',\n",
       "  'F1Score': 0.10499999672174454},\n",
       " {'TrainDataset': 'sim',\n",
       "  'ModelVersion': 'pt_fb',\n",
       "  'EvalDataset': 'bench',\n",
       "  'Split': 'valid',\n",
       "  'F1Score': 0.16500000655651093},\n",
       " {'TrainDataset': 'sim',\n",
       "  'ModelVersion': 'pt_fb',\n",
       "  'EvalDataset': 'sim',\n",
       "  'Split': 'valid',\n",
       "  'F1Score': 0.32499998807907104}]"
      ]
     },
     "execution_count": 90,
     "metadata": {},
     "output_type": "execute_result"
    }
   ],
   "source": [
    "data"
   ]
  },
  {
   "cell_type": "code",
   "execution_count": 93,
   "id": "4babcba2-65f2-49e2-8121-eb1cb8f4dd06",
   "metadata": {},
   "outputs": [
    {
     "name": "stdout",
     "output_type": "stream",
     "text": [
      "Unique EvalDataset values: ['ideal' 'bench' 'sim']\n",
      "Unique Split values: ['train' 'valid']\n"
     ]
    }
   ],
   "source": [
    "import pandas as pd\n",
    "\n",
    "# Assuming f1_scores is your dictionary\n",
    "data = []\n",
    "\n",
    "# Loop through the dictionary to collect data\n",
    "for train_dataset in f1_scores.keys():\n",
    "    for model_version in f1_scores[train_dataset].keys():\n",
    "        for eval_key in f1_scores[train_dataset][model_version].keys():\n",
    "            f1_value = f1_scores[train_dataset][model_version][eval_key]\n",
    "            # Split the key to get eval_dataset and split (train/valid)\n",
    "            try:\n",
    "                _, eval_dataset, split = eval_key.split('_')  # e.g., 'f1_ideal_train' -> ['f1', 'ideal', 'train']\n",
    "            except ValueError as e:\n",
    "                print(f\"Error splitting key '{eval_key}': {e}\")\n",
    "                continue  # Skip this entry if it doesn't match expected pattern\n",
    "            f1_value_scalar = f1_value.item() if hasattr(f1_value, 'item') else f1_value\n",
    "            data.append({\n",
    "                'TrainDataset': train_dataset,\n",
    "                'ModelVersion': model_version,\n",
    "                'EvalDataset': eval_dataset,\n",
    "                'Split': split,\n",
    "                'F1Score': f1_value_scalar  # Ensure it's a scalar\n",
    "            })\n",
    "\n",
    "# Create a DataFrame\n",
    "df = pd.DataFrame(data)\n",
    "\n",
    "# Check for unexpected values\n",
    "print(\"Unique EvalDataset values:\", df['EvalDataset'].unique())\n",
    "print(\"Unique Split values:\", df['Split'].unique())\n",
    "\n",
    "# Pivot the DataFrame to create a table\n",
    "table = df.pivot_table(\n",
    "    index=['TrainDataset', 'ModelVersion'],\n",
    "    columns=['EvalDataset', 'Split'],\n",
    "    values='F1Score',\n",
    "    aggfunc='first'  # Use 'first' in case of duplicates\n",
    ")\n",
    "\n",
    "# Reset index to convert index back to columns\n",
    "table = table.reset_index()\n",
    "\n",
    "# Flatten the MultiIndex columns with handling for None values\n",
    "def flatten_columns(columns):\n",
    "    new_columns = []\n",
    "    for col in columns:\n",
    "        if isinstance(col, tuple):\n",
    "            col = ['' if c is None else str(c) for c in col]\n",
    "            new_columns.append('_'.join(col).strip('_'))\n",
    "        else:\n",
    "            new_columns.append(col)\n",
    "    return new_columns\n",
    "\n",
    "table.columns = flatten_columns(table.columns.values)\n",
    "\n",
    "# # Optional: Rearranging columns for clarity\n",
    "# # List of columns to keep in order\n",
    "# cols = ['TrainDataset', 'ModelVersion'] + sorted([col for col in table.columns if col not in ['TrainDataset', 'ModelVersion']])\n",
    "\n",
    "# # Reorder the columns\n",
    "# table = table[cols]\n",
    "\n",
    "# Display the table\n",
    "# print(table)\n"
   ]
  },
  {
   "cell_type": "code",
   "execution_count": 97,
   "id": "9a434251-c3b4-4b9d-8d08-bb4718f0f626",
   "metadata": {},
   "outputs": [
    {
     "data": {
      "text/html": [
       "<div>\n",
       "<style scoped>\n",
       "    .dataframe tbody tr th:only-of-type {\n",
       "        vertical-align: middle;\n",
       "    }\n",
       "\n",
       "    .dataframe tbody tr th {\n",
       "        vertical-align: top;\n",
       "    }\n",
       "\n",
       "    .dataframe thead th {\n",
       "        text-align: right;\n",
       "    }\n",
       "</style>\n",
       "<table border=\"1\" class=\"dataframe\">\n",
       "  <thead>\n",
       "    <tr style=\"text-align: right;\">\n",
       "      <th></th>\n",
       "      <th>TrainDataset</th>\n",
       "      <th>ModelVersion</th>\n",
       "      <th>bench_train</th>\n",
       "      <th>bench_valid</th>\n",
       "      <th>ideal_train</th>\n",
       "      <th>ideal_valid</th>\n",
       "      <th>sim_train</th>\n",
       "      <th>sim_valid</th>\n",
       "    </tr>\n",
       "  </thead>\n",
       "  <tbody>\n",
       "    <tr>\n",
       "      <th>3</th>\n",
       "      <td>ideal</td>\n",
       "      <td>npt</td>\n",
       "      <td>0.32125</td>\n",
       "      <td>0.290</td>\n",
       "      <td>0.88500</td>\n",
       "      <td>0.85</td>\n",
       "      <td>0.82875</td>\n",
       "      <td>0.800</td>\n",
       "    </tr>\n",
       "    <tr>\n",
       "      <th>4</th>\n",
       "      <td>ideal</td>\n",
       "      <td>pt</td>\n",
       "      <td>0.42750</td>\n",
       "      <td>0.400</td>\n",
       "      <td>0.97875</td>\n",
       "      <td>0.94</td>\n",
       "      <td>0.94375</td>\n",
       "      <td>0.905</td>\n",
       "    </tr>\n",
       "    <tr>\n",
       "      <th>5</th>\n",
       "      <td>ideal</td>\n",
       "      <td>pt_fb</td>\n",
       "      <td>0.08375</td>\n",
       "      <td>0.165</td>\n",
       "      <td>0.26375</td>\n",
       "      <td>0.28</td>\n",
       "      <td>0.09750</td>\n",
       "      <td>0.155</td>\n",
       "    </tr>\n",
       "  </tbody>\n",
       "</table>\n",
       "</div>"
      ],
      "text/plain": [
       "  TrainDataset ModelVersion  bench_train  bench_valid  ideal_train  \\\n",
       "3        ideal          npt      0.32125        0.290      0.88500   \n",
       "4        ideal           pt      0.42750        0.400      0.97875   \n",
       "5        ideal        pt_fb      0.08375        0.165      0.26375   \n",
       "\n",
       "   ideal_valid  sim_train  sim_valid  \n",
       "3         0.85    0.82875      0.800  \n",
       "4         0.94    0.94375      0.905  \n",
       "5         0.28    0.09750      0.155  "
      ]
     },
     "execution_count": 97,
     "metadata": {},
     "output_type": "execute_result"
    }
   ],
   "source": [
    "table[table['TrainDataset'] == 'ideal']"
   ]
  },
  {
   "cell_type": "code",
   "execution_count": 99,
   "id": "5f68b271-01a3-47b1-bf58-85449bd686a4",
   "metadata": {},
   "outputs": [],
   "source": [
    "table.to_csv('../../results/baseline_classifier_analysis/f1_score_table.csv')"
   ]
  },
  {
   "cell_type": "code",
   "execution_count": 111,
   "id": "6fce4b07-d531-44e5-b86c-7d226f2457d6",
   "metadata": {},
   "outputs": [],
   "source": [
    "test = pd.read_csv('../../results/baseline_classifier_analysis/f1_score_table.csv', index_col=0)"
   ]
  },
  {
   "cell_type": "code",
   "execution_count": 112,
   "id": "07d0776d-a941-4e49-80e9-fe2dbf8305b6",
   "metadata": {},
   "outputs": [
    {
     "data": {
      "text/html": [
       "<div>\n",
       "<style scoped>\n",
       "    .dataframe tbody tr th:only-of-type {\n",
       "        vertical-align: middle;\n",
       "    }\n",
       "\n",
       "    .dataframe tbody tr th {\n",
       "        vertical-align: top;\n",
       "    }\n",
       "\n",
       "    .dataframe thead th {\n",
       "        text-align: right;\n",
       "    }\n",
       "</style>\n",
       "<table border=\"1\" class=\"dataframe\">\n",
       "  <thead>\n",
       "    <tr style=\"text-align: right;\">\n",
       "      <th></th>\n",
       "      <th>TrainDataset</th>\n",
       "      <th>ModelVersion</th>\n",
       "      <th>bench_train</th>\n",
       "      <th>bench_valid</th>\n",
       "      <th>ideal_train</th>\n",
       "      <th>ideal_valid</th>\n",
       "      <th>sim_train</th>\n",
       "      <th>sim_valid</th>\n",
       "    </tr>\n",
       "  </thead>\n",
       "  <tbody>\n",
       "    <tr>\n",
       "      <th>0</th>\n",
       "      <td>bench</td>\n",
       "      <td>npt</td>\n",
       "      <td>0.97625</td>\n",
       "      <td>0.875</td>\n",
       "      <td>0.22750</td>\n",
       "      <td>0.155</td>\n",
       "      <td>0.22500</td>\n",
       "      <td>0.155</td>\n",
       "    </tr>\n",
       "    <tr>\n",
       "      <th>1</th>\n",
       "      <td>bench</td>\n",
       "      <td>pt</td>\n",
       "      <td>0.98750</td>\n",
       "      <td>0.945</td>\n",
       "      <td>0.31375</td>\n",
       "      <td>0.275</td>\n",
       "      <td>0.32375</td>\n",
       "      <td>0.275</td>\n",
       "    </tr>\n",
       "    <tr>\n",
       "      <th>2</th>\n",
       "      <td>bench</td>\n",
       "      <td>pt_fb</td>\n",
       "      <td>0.14125</td>\n",
       "      <td>0.085</td>\n",
       "      <td>0.08375</td>\n",
       "      <td>0.165</td>\n",
       "      <td>0.08375</td>\n",
       "      <td>0.165</td>\n",
       "    </tr>\n",
       "    <tr>\n",
       "      <th>3</th>\n",
       "      <td>ideal</td>\n",
       "      <td>npt</td>\n",
       "      <td>0.32125</td>\n",
       "      <td>0.290</td>\n",
       "      <td>0.88500</td>\n",
       "      <td>0.850</td>\n",
       "      <td>0.82875</td>\n",
       "      <td>0.800</td>\n",
       "    </tr>\n",
       "    <tr>\n",
       "      <th>4</th>\n",
       "      <td>ideal</td>\n",
       "      <td>pt</td>\n",
       "      <td>0.42750</td>\n",
       "      <td>0.400</td>\n",
       "      <td>0.97875</td>\n",
       "      <td>0.940</td>\n",
       "      <td>0.94375</td>\n",
       "      <td>0.905</td>\n",
       "    </tr>\n",
       "    <tr>\n",
       "      <th>5</th>\n",
       "      <td>ideal</td>\n",
       "      <td>pt_fb</td>\n",
       "      <td>0.08375</td>\n",
       "      <td>0.165</td>\n",
       "      <td>0.26375</td>\n",
       "      <td>0.280</td>\n",
       "      <td>0.09750</td>\n",
       "      <td>0.155</td>\n",
       "    </tr>\n",
       "    <tr>\n",
       "      <th>6</th>\n",
       "      <td>sim</td>\n",
       "      <td>npt</td>\n",
       "      <td>0.41500</td>\n",
       "      <td>0.350</td>\n",
       "      <td>0.84375</td>\n",
       "      <td>0.760</td>\n",
       "      <td>0.91000</td>\n",
       "      <td>0.855</td>\n",
       "    </tr>\n",
       "    <tr>\n",
       "      <th>7</th>\n",
       "      <td>sim</td>\n",
       "      <td>pt</td>\n",
       "      <td>0.68375</td>\n",
       "      <td>0.550</td>\n",
       "      <td>0.90375</td>\n",
       "      <td>0.825</td>\n",
       "      <td>0.90750</td>\n",
       "      <td>0.830</td>\n",
       "    </tr>\n",
       "    <tr>\n",
       "      <th>8</th>\n",
       "      <td>sim</td>\n",
       "      <td>pt_fb</td>\n",
       "      <td>0.08375</td>\n",
       "      <td>0.165</td>\n",
       "      <td>0.14500</td>\n",
       "      <td>0.105</td>\n",
       "      <td>0.33250</td>\n",
       "      <td>0.325</td>\n",
       "    </tr>\n",
       "  </tbody>\n",
       "</table>\n",
       "</div>"
      ],
      "text/plain": [
       "  TrainDataset ModelVersion  bench_train  bench_valid  ideal_train  \\\n",
       "0        bench          npt      0.97625        0.875      0.22750   \n",
       "1        bench           pt      0.98750        0.945      0.31375   \n",
       "2        bench        pt_fb      0.14125        0.085      0.08375   \n",
       "3        ideal          npt      0.32125        0.290      0.88500   \n",
       "4        ideal           pt      0.42750        0.400      0.97875   \n",
       "5        ideal        pt_fb      0.08375        0.165      0.26375   \n",
       "6          sim          npt      0.41500        0.350      0.84375   \n",
       "7          sim           pt      0.68375        0.550      0.90375   \n",
       "8          sim        pt_fb      0.08375        0.165      0.14500   \n",
       "\n",
       "   ideal_valid  sim_train  sim_valid  \n",
       "0        0.155    0.22500      0.155  \n",
       "1        0.275    0.32375      0.275  \n",
       "2        0.165    0.08375      0.165  \n",
       "3        0.850    0.82875      0.800  \n",
       "4        0.940    0.94375      0.905  \n",
       "5        0.280    0.09750      0.155  \n",
       "6        0.760    0.91000      0.855  \n",
       "7        0.825    0.90750      0.830  \n",
       "8        0.105    0.33250      0.325  "
      ]
     },
     "execution_count": 112,
     "metadata": {},
     "output_type": "execute_result"
    }
   ],
   "source": [
    "test"
   ]
  },
  {
   "cell_type": "code",
   "execution_count": 100,
   "id": "749a8d6a-7206-432f-a9a9-9a5c3b137cda",
   "metadata": {},
   "outputs": [],
   "source": [
    "# Assuming 'table' is your DataFrame\n",
    "ideal_train_df = table[table['TrainDataset'] == 'ideal']\n",
    "# Select the validation columns\n",
    "validation_columns = ['bench_valid', 'ideal_valid', 'sim_valid']\n",
    "\n",
    "# Create a new DataFrame with ModelVersion and validation scores\n",
    "ideal_valid_performance = ideal_train_df[['ModelVersion'] + validation_columns]\n"
   ]
  },
  {
   "cell_type": "code",
   "execution_count": 101,
   "id": "280b98d2-2e50-422a-88bd-314cbb5ad9ab",
   "metadata": {},
   "outputs": [
    {
     "data": {
      "image/png": "[encoded data removed]",
      "text/plain": [
       "<Figure size 800x600 with 1 Axes>"
      ]
     },
     "metadata": {},
     "output_type": "display_data"
    }
   ],
   "source": [
    "import matplotlib.pyplot as plt\n",
    "\n",
    "# Set ModelVersion as the index\n",
    "ideal_valid_performance.set_index('ModelVersion', inplace=True)\n",
    "\n",
    "# Transpose the DataFrame for plotting\n",
    "plot_data = ideal_valid_performance.T\n",
    "\n",
    "# Plot a bar chart\n",
    "plot_data.plot(kind='bar', figsize=(8, 6))\n",
    "plt.title('Validation F1 Scores of Models Trained on Ideal Dataset')\n",
    "plt.ylabel('F1 Score')\n",
    "plt.xlabel('Evaluation Dataset')\n",
    "plt.xticks(rotation=0)\n",
    "plt.legend(title='Model Version')\n",
    "plt.show()\n"
   ]
  },
  {
   "cell_type": "code",
   "execution_count": 102,
   "id": "84ec464e-ec51-4536-9909-f53b0f38edfa",
   "metadata": {},
   "outputs": [
    {
     "name": "stdout",
     "output_type": "stream",
     "text": [
      "              bench_valid  ideal_valid  sim_valid\n",
      "TrainDataset                                     \n",
      "bench               0.945        0.275      0.275\n",
      "ideal               0.400        0.940      0.905\n",
      "sim                 0.550        0.825      0.830\n"
     ]
    }
   ],
   "source": [
    "# Filter for 'pt' model version\n",
    "pt_models = table[table['ModelVersion'] == 'pt']\n",
    "\n",
    "# Select validation columns\n",
    "pt_validation = pt_models[['TrainDataset', 'bench_valid', 'ideal_valid', 'sim_valid']]\n",
    "\n",
    "# Set TrainDataset as index\n",
    "pt_validation.set_index('TrainDataset', inplace=True)\n",
    "\n",
    "print(pt_validation)\n"
   ]
  },
  {
   "cell_type": "code",
   "execution_count": 103,
   "id": "87578083-c731-486f-add3-2ea27bbbed36",
   "metadata": {},
   "outputs": [
    {
     "data": {
      "image/png": "[encoded data removed]",
      "text/plain": [
       "<Figure size 800x600 with 1 Axes>"
      ]
     },
     "metadata": {},
     "output_type": "display_data"
    }
   ],
   "source": [
    "# Transpose the DataFrame for plotting\n",
    "plot_data_pt = pt_validation.T\n",
    "\n",
    "# Plot a bar chart\n",
    "plot_data_pt.plot(kind='bar', figsize=(8, 6))\n",
    "plt.title('Validation F1 Scores of Pretrained Model (pt) Across Training Datasets')\n",
    "plt.ylabel('F1 Score')\n",
    "plt.xlabel('Evaluation Dataset')\n",
    "plt.xticks(rotation=0)\n",
    "plt.legend(title='Training Dataset')\n",
    "plt.show()\n"
   ]
  },
  {
   "cell_type": "code",
   "execution_count": 105,
   "id": "53473c8d-07f2-432c-baba-3a9d4844edaf",
   "metadata": {},
   "outputs": [
    {
     "name": "stdout",
     "output_type": "stream",
     "text": [
      "TrainDataset\n",
      "bench    0.386825\n",
      "ideal    0.302173\n",
      "sim      0.160234\n",
      "dtype: float64\n"
     ]
    }
   ],
   "source": [
    "# Calculate standard deviation of validation scores for 'pt' models\n",
    "pt_validation_std = pt_validation.std(axis=1)\n",
    "\n",
    "print(pt_validation_std)\n"
   ]
  },
  {
   "cell_type": "code",
   "execution_count": 106,
   "id": "36e62ab6-e9d4-4ae8-80f1-244f7e6684bc",
   "metadata": {},
   "outputs": [
    {
     "name": "stdout",
     "output_type": "stream",
     "text": [
      "              bench_valid  ideal_valid  sim_valid\n",
      "TrainDataset                                     \n",
      "bench               0.875        0.155      0.155\n",
      "ideal               0.290        0.850      0.800\n",
      "sim                 0.350        0.760      0.855\n"
     ]
    }
   ],
   "source": [
    "def compare_model_version(model_version):\n",
    "    # Filter for the specified model version\n",
    "    model_df = table[table['ModelVersion'] == model_version]\n",
    "    # Select validation columns\n",
    "    validation_columns = ['bench_valid', 'ideal_valid', 'sim_valid']\n",
    "    model_validation = model_df[['TrainDataset'] + validation_columns]\n",
    "    # Set TrainDataset as index\n",
    "    model_validation.set_index('TrainDataset', inplace=True)\n",
    "    return model_validation\n",
    "\n",
    "# Use the function to compare 'npt' model version\n",
    "npt_validation = compare_model_version('npt')\n",
    "print(npt_validation)\n"
   ]
  },
  {
   "cell_type": "code",
   "execution_count": 108,
   "id": "177ea55a-9ea1-490e-b212-0fc839335255",
   "metadata": {},
   "outputs": [
    {
     "ename": "TypeError",
     "evalue": "DataFrame.pivot() takes 1 positional argument but 4 were given",
     "output_type": "error",
     "traceback": [
      "\u001b[0;31m---------------------------------------------------------------------------\u001b[0m",
      "\u001b[0;31mTypeError\u001b[0m                                 Traceback (most recent call last)",
      "Cell \u001b[0;32mIn[108], line 7\u001b[0m\n\u001b[1;32m      4\u001b[0m heatmap_data \u001b[38;5;241m=\u001b[39m ideal_valid_performance\u001b[38;5;241m.\u001b[39mreset_index()\u001b[38;5;241m.\u001b[39mmelt(id_vars\u001b[38;5;241m=\u001b[39m\u001b[38;5;124m'\u001b[39m\u001b[38;5;124mModelVersion\u001b[39m\u001b[38;5;124m'\u001b[39m, var_name\u001b[38;5;241m=\u001b[39m\u001b[38;5;124m'\u001b[39m\u001b[38;5;124mEvalDataset\u001b[39m\u001b[38;5;124m'\u001b[39m, value_name\u001b[38;5;241m=\u001b[39m\u001b[38;5;124m'\u001b[39m\u001b[38;5;124mF1Score\u001b[39m\u001b[38;5;124m'\u001b[39m)\n\u001b[1;32m      6\u001b[0m \u001b[38;5;66;03m# Create a pivot table for the heatmap\u001b[39;00m\n\u001b[0;32m----> 7\u001b[0m heatmap_pivot \u001b[38;5;241m=\u001b[39m \u001b[43mheatmap_data\u001b[49m\u001b[38;5;241;43m.\u001b[39;49m\u001b[43mpivot\u001b[49m\u001b[43m(\u001b[49m\u001b[38;5;124;43m'\u001b[39;49m\u001b[38;5;124;43mEvalDataset\u001b[39;49m\u001b[38;5;124;43m'\u001b[39;49m\u001b[43m,\u001b[49m\u001b[43m \u001b[49m\u001b[38;5;124;43m'\u001b[39;49m\u001b[38;5;124;43mModelVersion\u001b[39;49m\u001b[38;5;124;43m'\u001b[39;49m\u001b[43m,\u001b[49m\u001b[43m \u001b[49m\u001b[38;5;124;43m'\u001b[39;49m\u001b[38;5;124;43mF1Score\u001b[39;49m\u001b[38;5;124;43m'\u001b[39;49m\u001b[43m)\u001b[49m\n\u001b[1;32m      9\u001b[0m \u001b[38;5;66;03m# Plot the heatmap\u001b[39;00m\n\u001b[1;32m     10\u001b[0m plt\u001b[38;5;241m.\u001b[39mfigure(figsize\u001b[38;5;241m=\u001b[39m(\u001b[38;5;241m8\u001b[39m, \u001b[38;5;241m6\u001b[39m))\n",
      "\u001b[0;31mTypeError\u001b[0m: DataFrame.pivot() takes 1 positional argument but 4 were given"
     ]
    }
   ],
   "source": [
    "import seaborn as sns\n",
    "\n",
    "# Reshape the DataFrame for heatmap\n",
    "heatmap_data = ideal_valid_performance.reset_index().melt(id_vars='ModelVersion', var_name='EvalDataset', value_name='F1Score')\n",
    "\n",
    "# Create a pivot table for the heatmap\n",
    "heatmap_pivot = heatmap_data.pivot('EvalDataset', 'ModelVersion', 'F1Score')\n",
    "\n",
    "# Plot the heatmap\n",
    "plt.figure(figsize=(8, 6))\n",
    "sns.heatmap(heatmap_pivot, annot=True, cmap='viridis')\n",
    "plt.title('Validation F1 Scores Heatmap for Models Trained on Ideal Dataset')\n",
    "plt.show()\n"
   ]
  },
  {
   "cell_type": "code",
   "execution_count": null,
   "id": "e278e4cf-7f54-4321-8b79-452ecd13212d",
   "metadata": {},
   "outputs": [],
   "source": []
  }
 ],
 "metadata": {
  "kernelspec": {
   "display_name": "Python 3 (ipykernel)",
   "language": "python",
   "name": "python3"
  },
  "language_info": {
   "codemirror_mode": {
    "name": "ipython",
    "version": 3
   },
   "file_extension": ".py",
   "mimetype": "text/x-python",
   "name": "python",
   "nbconvert_exporter": "python",
   "pygments_lexer": "ipython3",
   "version": "3.12.4"
  }
 },
 "nbformat": 4,
 "nbformat_minor": 5
}
