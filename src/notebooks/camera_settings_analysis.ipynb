{
 "cells": [
  {
   "cell_type": "code",
   "execution_count": null,
   "id": "ac749446-abae-4386-bc21-abc75b4cea1d",
   "metadata": {},
   "outputs": [],
   "source": [
    "import numpy as np\n",
    "import matplotlib.pyplot as plt\n",
    "import pandas as pd\n",
    "import seaborn as sns\n",
    "import pickle\n",
    "import sys\n",
    "import os"
   ]
  },
  {
   "cell_type": "code",
   "execution_count": null,
   "id": "2bde4289-231f-4968-8106-69050dde8802",
   "metadata": {},
   "outputs": [],
   "source": [
    "print(plt.style.available)\n",
    "plt.style.use('seaborn-v0_8-dark-palette')"
   ]
  },
  {
   "cell_type": "markdown",
   "id": "6d446d63-7256-4ca1-b99b-10f935988400",
   "metadata": {},
   "source": [
    "## Exposure time"
   ]
  },
  {
   "cell_type": "code",
   "execution_count": null,
   "id": "403121f1-c850-4c8c-8db8-f2dd0cb07f3f",
   "metadata": {},
   "outputs": [],
   "source": [
    "exposure_time_data = pickle.load(open('../../results/camera_settings_optimization/exposure_times.pkl', 'rb'))"
   ]
  },
  {
   "cell_type": "code",
   "execution_count": null,
   "id": "04b75e9b-4a38-499c-b59a-f48c7b656e0d",
   "metadata": {},
   "outputs": [],
   "source": [
    "exposure_times = np.asarray(list(exposure_time_data.keys()))\n",
    "image_times = [v for v in exposure_time_data.values()]"
   ]
  },
  {
   "cell_type": "code",
   "execution_count": null,
   "id": "f6dbe676-ef03-4cbb-989e-e46f75f28867",
   "metadata": {},
   "outputs": [],
   "source": [
    "average_image_times = [np.mean(v) for v in image_times]\n",
    "min_image_times = [np.min(v) for v in image_times]\n",
    "max_image_times = [np.max(v) for v in image_times]"
   ]
  },
  {
   "cell_type": "code",
   "execution_count": null,
   "id": "a0d75ed9-4800-4dbc-83b2-a71bf03088ef",
   "metadata": {},
   "outputs": [],
   "source": [
    "fig,ax = plt.subplots(1,1, figsize=(8,5))\n",
    "ax.plot(exposure_times/1e6, max_image_times, color=\"#225522\", label = \"Maximum time\")\n",
    "ax.plot(exposure_times/1e6, average_image_times, color=\"#555555\", label = \"Average time\")\n",
    "ax.plot(exposure_times/1e6, min_image_times, color=\"#663333\", label = \"Minimum time\")\n",
    "\n",
    "ax.legend(frameon=True)\n",
    "ax.set_xlabel(\"Exposure time [s]\")\n",
    "ax.set_ylabel(\"Image time [s]\")"
   ]
  },
  {
   "cell_type": "code",
   "execution_count": null,
   "id": "86c63f41-7479-4369-8705-5db91d4662da",
   "metadata": {},
   "outputs": [],
   "source": [
    "num_epochs = 20\n",
    "num_images = 1000\n",
    "experiment_time = num_epochs * num_images * np.asarray(average_image_times)\n",
    "experiment_time_hr = experiment_time / (60 * 60)"
   ]
  },
  {
   "cell_type": "code",
   "execution_count": null,
   "id": "ab574753-a715-462f-abef-937480709469",
   "metadata": {},
   "outputs": [],
   "source": [
    "fig,ax = plt.subplots(1,1, figsize=(8,5))\n",
    "ax.plot(exposure_times/1e6, experiment_time_hr, color=\"#225522\", label = \"Experiment time\")\n",
    "\n",
    "\n",
    "ax.legend(frameon=True)\n",
    "ax.set_xlabel(\"Exposure time [s]\")\n",
    "ax.set_ylabel(\"Experiment time [hr]\")"
   ]
  },
  {
   "cell_type": "code",
   "execution_count": null,
   "id": "2b4e674b-73c3-4a91-b4db-0e95a855d7a3",
   "metadata": {},
   "outputs": [],
   "source": [
    "exposure_times[np.where(experiment_time_hr < 6)[0][-1]]/1e6"
   ]
  },
  {
   "cell_type": "markdown",
   "id": "5b6c5f4d-a421-48b2-b44a-b8e914f91bdb",
   "metadata": {},
   "source": [
    "## Bench SNR"
   ]
  },
  {
   "cell_type": "code",
   "execution_count": null,
   "id": "5fab7d59-5ecb-4481-8f8b-42070201c6a2",
   "metadata": {},
   "outputs": [],
   "source": [
    "path_data = '../../results/bench_snr/'\n",
    "path_results = os.path.join(path_data, 'processed')\n",
    "os.makedirs(path_results, exist_ok=True)\n",
    "files = os.listdir(path_data)\n",
    "files = [os.path.join(path_data, f) for f in files if '.pkl' in f]\n",
    "files = [f for f in files if 'resampled' not in f]\n",
    "files.sort()"
   ]
  },
  {
   "cell_type": "code",
   "execution_count": null,
   "id": "6e0891d9-d575-4116-a792-9662cb4634f2",
   "metadata": {},
   "outputs": [],
   "source": [
    "exposure_times = [int(f.split(\"_\")[-1].replace('.pkl', '')) for f in files]"
   ]
  },
  {
   "cell_type": "code",
   "execution_count": null,
   "id": "1ed238a5-6404-45bc-b407-7af1aa323400",
   "metadata": {},
   "outputs": [],
   "source": [
    "indices = [ i for i in range(0, len(files), 10)]\n",
    "print(indices)"
   ]
  },
  {
   "cell_type": "code",
   "execution_count": null,
   "id": "ec885ed9-9abc-4ce2-8b66-301d496257bb",
   "metadata": {},
   "outputs": [],
   "source": [
    "fig,ax = plt.subplots(10,3, figsize=(6,10))\n",
    "\n",
    "for i,idx in enumerate(indices):\n",
    "    data = pickle.load(open(files[idx], 'rb'))\n",
    "    exposure_time = np.round(exposure_times[idx]/1e6, 2)\n",
    "\n",
    "    ax[i][0].imshow(data['dark_background'], vmin=0, vmax=1)\n",
    "    ax[i][0].set_ylabel(f\"{exposure_time}\")\n",
    "    ax[i][1].imshow(data['bright_background'], vmin=0, vmax=1)\n",
    "    ax[i][2].imshow(data['collected_images'][1], vmin=0, vmax=1)\n",
    "\n",
    "for a in ax.flatten():\n",
    "    a.set_xticks([], [])\n",
    "    a.set_yticks([], [])\n",
    "\n",
    "ax[0][0].set_title(\"Dark background\")\n",
    "ax[0][1].set_title(\"Bright background\")\n",
    "ax[0][2].set_title(\"Collected image\")\n",
    "\n",
    "plt.tight_layout()\n",
    "fig.savefig(os.path.join(path_results, 'example_images.pdf'))"
   ]
  },
  {
   "cell_type": "code",
   "execution_count": null,
   "id": "d99b7af6-01ed-430a-9043-8011b7b59476",
   "metadata": {},
   "outputs": [],
   "source": [
    "fig,ax = plt.subplots(10,3, figsize=(5,10))\n",
    "\n",
    "max_vals_dark = []\n",
    "min_vals_dark = []\n",
    "\n",
    "max_vals_bright = []\n",
    "min_vals_bright = []\n",
    "\n",
    "for i,idx in enumerate(indices):\n",
    "    data = pickle.load(open(files[idx], 'rb'))\n",
    "    exposure_time = np.round(exposure_times[idx]/1e6, 2)\n",
    "\n",
    "    dark_background = data['dark_background']\n",
    "    bright_background = data['bright_background']\n",
    "    collected_image = data['collected_images'][1]\n",
    "\n",
    "    image_minus_dark = collected_image - dark_background\n",
    "    image_minus_bright = collected_image - bright_background\n",
    "\n",
    "    max_vals_dark.append(np.max(image_minus_dark))\n",
    "    min_vals_dark.append(np.min(image_minus_dark))\n",
    "    max_vals_bright.append(np.max(image_minus_bright))\n",
    "    min_vals_bright.append(np.min(image_minus_bright))\n",
    "    \n",
    "    ax[i][0].imshow(collected_image, vmin=0, vmax=1)\n",
    "    ax[i][0].set_ylabel(f\"{exposure_time}\")\n",
    "    ax[i][1].imshow(np.abs(image_minus_dark), vmin=0, vmax=1)\n",
    "    ax[i][2].imshow(np.abs(image_minus_bright), vmin=0, vmax=1)\n",
    "\n",
    "for a in ax.flatten():\n",
    "    a.set_xticks([], [])\n",
    "    a.set_yticks([], [])\n",
    "\n",
    "ax[0][0].set_title(\"Image\")\n",
    "ax[0][1].set_title(\"|Image - dark|\")\n",
    "ax[0][2].set_title(\"|Image - bright|\")\n",
    "\n",
    "plt.tight_layout()\n",
    "fig.savefig(os.path.join(path_results, 'subtracted_images.pdf'))"
   ]
  },
  {
   "cell_type": "markdown",
   "id": "a9bdfa18-b94e-49d5-8727-1fdf3fdf0015",
   "metadata": {},
   "source": [
    "## SNR calculations"
   ]
  },
  {
   "cell_type": "code",
   "execution_count": null,
   "id": "d58b7d99-a67e-4115-8735-d2a2295e175e",
   "metadata": {},
   "outputs": [],
   "source": [
    "ideal_images = pickle.load(open(os.path.join(path_data, 'resampled_images.pkl'), 'rb'))\n",
    "ideal_images = [image.squeeze().numpy()/255 for image in ideal_images]"
   ]
  },
  {
   "cell_type": "code",
   "execution_count": null,
   "id": "43b91093-3163-4d66-ba24-1a1128fd3007",
   "metadata": {},
   "outputs": [],
   "source": [
    "# Calculate masks based on the ideal images\n",
    "masks_signal = [(image > 0.5).astype(np.int32) for image in ideal_images]\n",
    "masks_noise = [np.abs(image -1 ).astype(np.int32) > 0.5 for image in ideal_images]"
   ]
  },
  {
   "cell_type": "code",
   "execution_count": null,
   "id": "de5c0efa-fcf5-4a3d-9a53-3fcd027fff47",
   "metadata": {},
   "outputs": [],
   "source": [
    "# Plot the masks\n",
    "fig,ax = plt.subplots(10,3, figsize=(5,10))\n",
    "\n",
    "for i,(image, mask_signal, mask_noise) in enumerate(zip(ideal_images, masks_signal, masks_noise)):\n",
    "    ax[i][0].imshow(image, vmin=0, vmax=1)\n",
    "    ax[i][1].imshow(mask_signal, vmin=0, vmax=1)\n",
    "    ax[i][2].imshow(mask_noise, vmin=0, vmax=1)\n",
    "\n",
    "\n",
    "for a in ax.flatten():\n",
    "    a.set_xticks([], [])\n",
    "    a.set_yticks([], [])\n",
    "\n",
    "ax[0][0].set_title(\"Image\")\n",
    "ax[0][1].set_title(\"Signal mask\")\n",
    "ax[0][2].set_title(\"Noise mask\")"
   ]
  },
  {
   "cell_type": "code",
   "execution_count": null,
   "id": "37a35d51-564a-49a3-9111-768cb6379589",
   "metadata": {},
   "outputs": [],
   "source": [
    "# For each exposure time\n",
    "#   Get the dark background\n",
    "#   For each collected image at that exposure\n",
    "#     Subtract the dark background from the collected image\n",
    "#     Mask the collected image with the signal mask and sum\n",
    "#     Mask the collected image with the noise mask and sum\n",
    "#     Mask the background subtracted image with the signal mask and sum\n",
    "#     Mask the background subtracted image with the noise mask and sum\n",
    "#   Average each of the summations\n",
    "#   Get the SNR at that exposure"
   ]
  },
  {
   "cell_type": "code",
   "execution_count": null,
   "id": "41a015e2-107f-4093-bd94-b26907ecde89",
   "metadata": {},
   "outputs": [],
   "source": [
    "snr_average = []\n",
    "snr_max = []\n",
    "snr_min = []\n",
    "bgs_snr_average = []\n",
    "bgs_snr_max = []\n",
    "bgs_snr_min = []\n",
    "for i, (f, et) in enumerate(zip(files, exposure_times)):\n",
    "    data = pickle.load(open(f, 'rb'))\n",
    "    dark_background = data['dark_background']\n",
    "    signal_sum = []\n",
    "    noise_sum = []\n",
    "    bgs_signal_sum = []\n",
    "    bgs_noise_sum = []\n",
    "    for j,image in enumerate(data['collected_images']):\n",
    "        background_subtracted = np.abs(image - dark_background)\n",
    "        original_signal = masks_signal[j] * image\n",
    "        original_noise = masks_noise[j] * image\n",
    "        bgs_signal = masks_signal[j] * background_subtracted\n",
    "        bgs_noise = masks_noise[j] * background_subtracted\n",
    "        signal_sum.append(np.sum(original_signal))\n",
    "        noise_sum.append(np.sum(original_noise))\n",
    "        bgs_signal_sum.append(np.sum(bgs_signal))\n",
    "        bgs_noise_sum.append(np.sum(bgs_noise))\n",
    "    average_signal = np.mean(signal_sum)\n",
    "    max_signal = np.max(signal_sum)\n",
    "    min_signal = np.min(signal_sum)\n",
    "    average_noise = np.mean(noise_sum)\n",
    "    max_noise = np.max(noise_sum)\n",
    "    min_noise = np.min(noise_sum)\n",
    "    average_bgs_signal = np.mean(bgs_signal_sum)\n",
    "    max_bgs_signal = np.max(bgs_signal_sum)\n",
    "    min_bgs_signal = np.min(bgs_signal_sum)\n",
    "    average_bgs_noise = np.mean(bgs_noise_sum)\n",
    "    max_bgs_noise = np.max(bgs_noise_sum)\n",
    "    min_bgs_noise = np.min(bgs_noise_sum)\n",
    "    \n",
    "    snr_average.append(average_signal / average_noise)\n",
    "    snr_min.append(min_signal / max_noise)\n",
    "    snr_max.append(max_signal / min_noise)\n",
    "    bgs_snr_average.append(average_bgs_signal / average_bgs_noise)\n",
    "    bgs_snr_min.append(min_bgs_signal / max_bgs_noise)\n",
    "    bgs_snr_max.append(max_bgs_signal / min_bgs_noise)"
   ]
  },
  {
   "cell_type": "code",
   "execution_count": null,
   "id": "414121a0-059b-49cb-9021-995a864ca264",
   "metadata": {},
   "outputs": [],
   "source": [
    "fig,ax = plt.subplots(1,1, figsize=(8,5))\n",
    "ax.plot(np.asarray(exposure_times)/1e6, snr_average, label='Original images')\n",
    "ax.plot(np.asarray(exposure_times)/1e6, bgs_snr_average, label='Background subtracted images')\n",
    "ax.set_ylabel(\"Average SNR\")\n",
    "ax.set_xlabel(\"Exposure time [s]\")\n",
    "ax.set_title(\"Average SNR by exposure time\")\n",
    "ax.legend()\n",
    "plt.tight_layout()\n",
    "fig.savefig(os.path.join(path_results, 'SNR.pdf'))"
   ]
  },
  {
   "cell_type": "code",
   "execution_count": null,
   "id": "0b2ba5e9-7ac6-421a-9cd2-62122daee090",
   "metadata": {},
   "outputs": [],
   "source": [
    "fig,ax = plt.subplots(1,1, figsize=(8,5))\n",
    "ax.plot(np.asarray(exposure_times)/1e6, snr_max, label='Original images')\n",
    "ax.plot(np.asarray(exposure_times)/1e6, bgs_snr_max, label='Background subtracted images')\n",
    "ax.set_ylabel(\"Maximum SNR\")\n",
    "ax.set_xlabel(\"Exposure time [s]\")\n",
    "ax.set_title(\"Max SNR by exposure time\")\n",
    "ax.legend()\n",
    "plt.tight_layout()\n",
    "fig.savefig(os.path.join(path_results, 'SNR_max.pdf'))"
   ]
  },
  {
   "cell_type": "code",
   "execution_count": null,
   "id": "e34eb8c2-e4ca-433a-96dd-253a5adcaa5c",
   "metadata": {},
   "outputs": [],
   "source": [
    "fig,ax = plt.subplots(1,1, figsize=(8,5))\n",
    "ax.plot(np.asarray(exposure_times)/1e6, snr_min, label='Original images')\n",
    "ax.plot(np.asarray(exposure_times)/1e6, bgs_snr_min, label='Background subtracted images')\n",
    "ax.set_ylabel(\"Minimum SNR\")\n",
    "ax.set_xlabel(\"Exposure time [s]\")\n",
    "ax.set_title(\"Min SNR by exposure time\")\n",
    "ax.legend()\n",
    "plt.tight_layout()\n",
    "fig.savefig(os.path.join(path_results, 'SNR_min.pdf'))"
   ]
  },
  {
   "cell_type": "code",
   "execution_count": null,
   "id": "c6e0fa6d-cd16-4bb4-b25a-59715968ca7f",
   "metadata": {},
   "outputs": [],
   "source": [
    "fig,ax = plt.subplots(1,1, figsize=(8,5))\n",
    "ax.plot(np.asarray(exposure_times)/1e6, snr_max, label='Original images (max)')\n",
    "ax.plot(np.asarray(exposure_times)/1e6, snr_average, label='Original images (average)')\n",
    "ax.plot(np.asarray(exposure_times)/1e6, snr_min, label='Original images (min)')\n",
    "ax.plot(np.asarray(exposure_times)/1e6, bgs_snr_max, label='Background subtracted images (max)')\n",
    "ax.plot(np.asarray(exposure_times)/1e6, bgs_snr_average, label='Background subtracted images (average)')\n",
    "ax.plot(np.asarray(exposure_times)/1e6, bgs_snr_min, label='Background subtracted images (min)')\n",
    "ax.set_ylabel(\"SNR\")\n",
    "ax.set_xlabel(\"Exposure time [s]\")\n",
    "ax.set_title(\"SNR by exposure time\")\n",
    "ax.legend()\n",
    "plt.tight_layout()\n",
    "fig.savefig(os.path.join(path_results, 'SNR_combined.pdf'))"
   ]
  },
  {
   "cell_type": "code",
   "execution_count": null,
   "id": "9f9a64b2-ccd4-4a25-875d-0539ff97f325",
   "metadata": {},
   "outputs": [],
   "source": [
    "exposure_times"
   ]
  },
  {
   "cell_type": "code",
   "execution_count": null,
   "id": "fb7b8bcc-d9ff-4a10-b612-ba8f89ed5a30",
   "metadata": {},
   "outputs": [],
   "source": []
  }
 ],
 "metadata": {
  "kernelspec": {
   "display_name": "Python 3 (ipykernel)",
   "language": "python",
   "name": "python3"
  },
  "language_info": {
   "codemirror_mode": {
    "name": "ipython",
    "version": 3
   },
   "file_extension": ".py",
   "mimetype": "text/x-python",
   "name": "python",
   "nbconvert_exporter": "python",
   "pygments_lexer": "ipython3",
   "version": "3.12.2"
  }
 },
 "nbformat": 4,
 "nbformat_minor": 5
}
