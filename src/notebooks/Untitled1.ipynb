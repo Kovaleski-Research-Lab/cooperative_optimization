{
 "cells": [
  {
   "cell_type": "code",
   "execution_count": null,
   "id": "0a6db528-7fa5-49ec-a269-708e50b47de3",
   "metadata": {},
   "outputs": [],
   "source": [
    "import torch\n",
    "import numpy as np\n",
    "import matplotlib.pyplot as plt\n",
    "import os\n",
    "import yaml\n",
    "from diffractive_optical_model.diffractive_optical_model import DOM"
   ]
  },
  {
   "cell_type": "code",
   "execution_count": null,
   "id": "9b59cb79-e2e0-409e-8000-00354ba9548b",
   "metadata": {},
   "outputs": [],
   "source": [
    "path_results = '../../results/coop_bench_alpha_0.0_beta_0.0_gamma_0.0_delta_1.0/version_4/'\n",
    "path_checkpoints = 'checkpoints/'\n",
    "path_lenses = 'lens_phase/'\n",
    "config = yaml.load(open('../../config.yaml', 'r'), Loader=yaml.FullLoader)\n"
   ]
  },
  {
   "cell_type": "code",
   "execution_count": null,
   "id": "eee9dbca-8fee-4d04-a2fb-ebb0077a854c",
   "metadata": {},
   "outputs": [],
   "source": [
    "dom = DOM(config)"
   ]
  },
  {
   "cell_type": "code",
   "execution_count": null,
   "id": "30550887-da76-431c-9677-9bbdf8540f25",
   "metadata": {},
   "outputs": [],
   "source": [
    "ideal_lens = dom.layers[1].modulator.get_phase(with_grad = False).squeeze().detach().cpu().numpy()\n",
    "ideal_lens_2p = ideal_lens % (2*torch.pi)"
   ]
  },
  {
   "cell_type": "code",
   "execution_count": null,
   "id": "fc25b275-353f-4d42-8ff2-bd83f75421a9",
   "metadata": {},
   "outputs": [],
   "source": [
    "lens_filenames = [os.path.join(path_results, path_lenses, i) for i in os.listdir(os.path.join(path_results, path_lenses))]\n",
    "lens_filenames.sort()"
   ]
  },
  {
   "cell_type": "code",
   "execution_count": null,
   "id": "68204250-8bf3-4181-995a-8662a0ae5ae2",
   "metadata": {},
   "outputs": [],
   "source": [
    "lens_filenames"
   ]
  },
  {
   "cell_type": "code",
   "execution_count": null,
   "id": "b2adb5c2-347c-4ce0-b404-e7e7f0c8fe20",
   "metadata": {},
   "outputs": [],
   "source": [
    "lenses = []\n",
    "for f in lens_filenames:\n",
    "    lenses.append(torch.load(f, weights_only=True).detach().cpu().numpy())"
   ]
  },
  {
   "cell_type": "code",
   "execution_count": null,
   "id": "a4b648ba-1adc-4c0b-9468-215101353e9d",
   "metadata": {},
   "outputs": [],
   "source": [
    "lenses[0]"
   ]
  },
  {
   "cell_type": "code",
   "execution_count": null,
   "id": "f040cd91-e748-426f-853f-78ba51d7c5da",
   "metadata": {
    "scrolled": true
   },
   "outputs": [],
   "source": [
    "fig,ax = plt.subplots(len(lenses), 1, figsize=(8, len(lenses)*5))\n",
    "\n",
    "for i,lens in enumerate(lenses):\n",
    "    ax[i].imshow(lens % (2 * torch.pi))"
   ]
  },
  {
   "cell_type": "code",
   "execution_count": null,
   "id": "c44dcf40-046e-464f-8ca8-26959ef8a785",
   "metadata": {},
   "outputs": [],
   "source": [
    "lens_differences = [ideal_lens - i for i in lenses]"
   ]
  },
  {
   "cell_type": "code",
   "execution_count": null,
   "id": "2d5b615c-dfa2-4291-8c9c-6c460604e2a4",
   "metadata": {},
   "outputs": [],
   "source": [
    "lens_differences[0]"
   ]
  },
  {
   "cell_type": "code",
   "execution_count": null,
   "id": "859aad2a-2077-497d-b609-fb372181aab9",
   "metadata": {
    "scrolled": true
   },
   "outputs": [],
   "source": [
    "fig,ax = plt.subplots(len(lenses), 1, figsize=(8, len(lenses)*5))\n",
    "\n",
    "for i,lens in enumerate(lens_differences):\n",
    "    ax[i].imshow(lens)\n"
   ]
  },
  {
   "cell_type": "code",
   "execution_count": null,
   "id": "5a71ee2f-33ac-4998-bec2-76d7b8ef89c4",
   "metadata": {},
   "outputs": [],
   "source": [
    "lens_differences = np.asarray(lens_differences)"
   ]
  },
  {
   "cell_type": "code",
   "execution_count": null,
   "id": "9856e44e-469b-4193-a04f-9a441ccb8e49",
   "metadata": {},
   "outputs": [],
   "source": [
    "print(np.min(lens_differences))\n",
    "print(np.max(lens_differences))"
   ]
  },
  {
   "cell_type": "code",
   "execution_count": null,
   "id": "f17927ec-9957-4aea-b793-be75ed078248",
   "metadata": {},
   "outputs": [],
   "source": [
    "np.max(lens % (2*np.pi))"
   ]
  },
  {
   "cell_type": "code",
   "execution_count": null,
   "id": "51500ee3-d8d6-48d3-bdf3-d774dfa85e7a",
   "metadata": {},
   "outputs": [],
   "source": [
    "-3*np.pi % (2*np.pi)"
   ]
  },
  {
   "cell_type": "code",
   "execution_count": null,
   "id": "52d1504a-09a0-4d87-85c4-0aaab5d5bcb2",
   "metadata": {},
   "outputs": [],
   "source": [
    "test0 = lenses[0] - lenses[1]\n",
    "test1 = lenses[-2] - lenses[-1]"
   ]
  },
  {
   "cell_type": "code",
   "execution_count": null,
   "id": "4ad12c45-d00d-40d2-9c11-02f314551ab2",
   "metadata": {},
   "outputs": [],
   "source": [
    "test0.min()"
   ]
  },
  {
   "cell_type": "code",
   "execution_count": null,
   "id": "2792abc3-c36c-4a04-b878-43ae46e03a5c",
   "metadata": {},
   "outputs": [],
   "source": [
    "differences = []\n",
    "\n",
    "for i,lens0 in enumerate(lens_differences):\n",
    "    temp = []\n",
    "    for j,lens1 in enumerate(lens_differences):\n",
    "        temp.append(np.mean(lens0 - lens1))\n",
    "    differences.append(np.asarray(temp))\n",
    "differences = np.asarray(differences)"
   ]
  },
  {
   "cell_type": "code",
   "execution_count": null,
   "id": "fee5e53d-8592-415b-8024-9f5127f682ca",
   "metadata": {},
   "outputs": [],
   "source": [
    "differences.shape"
   ]
  },
  {
   "cell_type": "code",
   "execution_count": null,
   "id": "f97bde7e-2f5d-478f-8a38-2fd80f399719",
   "metadata": {},
   "outputs": [],
   "source": [
    "plt.imshow(differences, origin='upper')\n",
    "plt.colorbar()"
   ]
  },
  {
   "cell_type": "code",
   "execution_count": null,
   "id": "1389d428-9fd8-4923-b840-f7184fe4eb13",
   "metadata": {},
   "outputs": [],
   "source": [
    "lens_differences.mean()"
   ]
  },
  {
   "cell_type": "code",
   "execution_count": null,
   "id": "1de817ae-878a-4606-9a65-c4166f770c66",
   "metadata": {},
   "outputs": [],
   "source": [
    "np_lens_differences = np.asarray(lens_differences)"
   ]
  },
  {
   "cell_type": "code",
   "execution_count": null,
   "id": "9847177c-f74f-4689-bcce-1bd4557ab0d6",
   "metadata": {},
   "outputs": [],
   "source": [
    "mean_diff = np.asarray([np.mean(i) for i in lens_differences])"
   ]
  },
  {
   "cell_type": "code",
   "execution_count": null,
   "id": "0b6874af-271e-4740-a083-dc36c12748fd",
   "metadata": {},
   "outputs": [],
   "source": [
    "np.diff(mean_diff)"
   ]
  },
  {
   "cell_type": "code",
   "execution_count": null,
   "id": "3da0bda2-fa31-4ff0-bb97-eccaf55235b2",
   "metadata": {},
   "outputs": [],
   "source": [
    "plt.plot(mean_diff)"
   ]
  },
  {
   "cell_type": "code",
   "execution_count": null,
   "id": "45850167-ac32-4efd-924f-f4a7b15d3482",
   "metadata": {},
   "outputs": [],
   "source": [
    "plt.plot(np.diff(mean_diff))"
   ]
  },
  {
   "cell_type": "code",
   "execution_count": null,
   "id": "9a401490-6271-4bbb-b896-b0f276f4deaf",
   "metadata": {},
   "outputs": [],
   "source": [
    "diff_diff = []\n",
    "\n",
    "for i in range(len(lens_differences) -1):\n",
    "    start = lens_differences[i]\n",
    "    end = lens_differences[i +1]\n",
    "    diff = end - start\n",
    "    diff_diff.append(diff)"
   ]
  },
  {
   "cell_type": "code",
   "execution_count": null,
   "id": "9d33d30b-d7d7-4b46-9f99-77c745216bf6",
   "metadata": {
    "scrolled": true
   },
   "outputs": [],
   "source": [
    "fig,ax = plt.subplots(len(diff_diff), 1, figsize=(8, len(diff_diff)*5))\n",
    "\n",
    "for i,lens in enumerate(diff_diff):\n",
    "    ax[i].imshow(lens)"
   ]
  },
  {
   "cell_type": "code",
   "execution_count": null,
   "id": "ad2138e2-4dbe-4388-a044-69868ef5435d",
   "metadata": {},
   "outputs": [],
   "source": [
    "diff_diff_flatten = [i.flatten() for i in diff_diff]"
   ]
  },
  {
   "cell_type": "code",
   "execution_count": null,
   "id": "660a20ef-cc22-4f2d-90c1-d57f3d33badf",
   "metadata": {},
   "outputs": [],
   "source": [
    "fig,ax = plt.subplots(1, 1, figsize=(8, 5))\n",
    "\n",
    "for i,lens in enumerate(diff_diff_flatten):\n",
    "    hist, bins = np.histogram(lens, bins=1000)\n",
    "    ax.plot(bins[:-1], hist)\n",
    "\n"
   ]
  },
  {
   "cell_type": "code",
   "execution_count": null,
   "id": "9e607420-bd39-44ad-8d33-15fb877beb17",
   "metadata": {},
   "outputs": [],
   "source": []
  }
 ],
 "metadata": {
  "kernelspec": {
   "display_name": "Python 3 (ipykernel)",
   "language": "python",
   "name": "python3"
  },
  "language_info": {
   "codemirror_mode": {
    "name": "ipython",
    "version": 3
   },
   "file_extension": ".py",
   "mimetype": "text/x-python",
   "name": "python",
   "nbconvert_exporter": "python",
   "pygments_lexer": "ipython3",
   "version": "3.12.4"
  }
 },
 "nbformat": 4,
 "nbformat_minor": 5
}
