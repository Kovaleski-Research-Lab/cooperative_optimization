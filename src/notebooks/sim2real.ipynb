{
 "cells": [
  {
   "cell_type": "code",
   "execution_count": null,
   "id": "e16f85ce-591a-48b9-aa05-a469d41ec1d8",
   "metadata": {},
   "outputs": [],
   "source": [
    "import os\n",
    "import sys\n",
    "import csv\n",
    "import torch\n",
    "import numpy as np\n",
    "import pandas as pd\n",
    "import seaborn as sns\n",
    "import matplotlib.pyplot as plt\n",
    "\n",
    "sys.path.append('../')\n",
    "from datamodule.datamodule import select_data\n",
    "from models.models import Classifier"
   ]
  },
  {
   "cell_type": "code",
   "execution_count": null,
   "id": "df0c5288-de21-42dd-9222-71a46e818c16",
   "metadata": {},
   "outputs": [],
   "source": [
    "print(plt.style.available)\n",
    "plt.style.use('seaborn-v0_8-dark-palette')"
   ]
  },
  {
   "cell_type": "code",
   "execution_count": null,
   "id": "1e3e7615-5bce-47f7-a63a-e400cd59d080",
   "metadata": {},
   "outputs": [],
   "source": [
    "path_data = '../../data/sim2real/'\n",
    "files = os.listdir(path_data)\n",
    "files.sort()\n",
    "train_files = [os.path.join(path_data, i) for i in files if 'train' in i]\n",
    "valid_files = [os.path.join(path_data, i) for i in files if 'valid' in i]"
   ]
  },
  {
   "cell_type": "code",
   "execution_count": null,
   "id": "b184efdd-079f-4c13-84dc-9c88843e6970",
   "metadata": {},
   "outputs": [],
   "source": []
  }
 ],
 "metadata": {
  "kernelspec": {
   "display_name": "Python 3 (ipykernel)",
   "language": "python",
   "name": "python3"
  },
  "language_info": {
   "codemirror_mode": {
    "name": "ipython",
    "version": 3
   },
   "file_extension": ".py",
   "mimetype": "text/x-python",
   "name": "python",
   "nbconvert_exporter": "python",
   "pygments_lexer": "ipython3",
   "version": "3.12.4"
  }
 },
 "nbformat": 4,
 "nbformat_minor": 5
}
