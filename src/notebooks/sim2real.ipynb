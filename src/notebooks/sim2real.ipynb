{
 "cells": [
  {
   "cell_type": "code",
   "execution_count": null,
   "id": "e16f85ce-591a-48b9-aa05-a469d41ec1d8",
   "metadata": {},
   "outputs": [],
   "source": [
    "import os\n",
    "import sys\n",
    "import csv\n",
    "import torch\n",
    "import numpy as np\n",
    "import pandas as pd\n",
    "import seaborn as sns\n",
    "import matplotlib.pyplot as plt\n",
    "from torchmetrics.functional.image import peak_signal_noise_ratio as psnr\n",
    "from torchmetrics.functional import mean_squared_error as mse\n",
    "from torchmetrics.functional.image import structural_similarity_index_measure as ssim\n",
    "from tqdm.notebook import tqdm\n",
    "sys.path.append('../')\n",
    "from datamodule.datamodule import select_data\n",
    "from models.models import Classifier\n",
    "from mpl_toolkits.axes_grid1 import make_axes_locatable\n"
   ]
  },
  {
   "cell_type": "code",
   "execution_count": null,
   "id": "df0c5288-de21-42dd-9222-71a46e818c16",
   "metadata": {},
   "outputs": [],
   "source": [
    "print(plt.style.available)\n",
    "plt.style.use('seaborn-v0_8-dark-palette')"
   ]
  },
  {
   "cell_type": "code",
   "execution_count": null,
   "id": "dc88bcd1-d522-452c-8749-fac358a0e6cf",
   "metadata": {},
   "outputs": [],
   "source": [
    "version = \"version_2\""
   ]
  },
  {
   "cell_type": "code",
   "execution_count": null,
   "id": "1e3e7615-5bce-47f7-a63a-e400cd59d080",
   "metadata": {},
   "outputs": [],
   "source": [
    "path_data = f'../../data/sim2real/{version}'\n",
    "files = os.listdir(path_data)\n",
    "files.sort()\n",
    "train_files = [os.path.join(path_data, i) for i in files if 'train' in i]\n",
    "valid_files = [os.path.join(path_data, i) for i in files if 'valid' in i]"
   ]
  },
  {
   "cell_type": "code",
   "execution_count": null,
   "id": "b184efdd-079f-4c13-84dc-9c88843e6970",
   "metadata": {
    "scrolled": true
   },
   "outputs": [],
   "source": [
    "data = torch.load(train_files[0], weights_only=True)"
   ]
  },
  {
   "cell_type": "code",
   "execution_count": null,
   "id": "482b9afb-7929-413f-af20-c7c4e8ee6b7f",
   "metadata": {},
   "outputs": [],
   "source": [
    "data.keys()"
   ]
  },
  {
   "cell_type": "markdown",
   "id": "5f3aaef2-d2a7-47e9-8538-dd3ef0e1d9d2",
   "metadata": {},
   "source": [
    "## Training metrics"
   ]
  },
  {
   "cell_type": "code",
   "execution_count": null,
   "id": "5c0c808c-c367-4758-9df5-55ad12f07d6b",
   "metadata": {},
   "outputs": [],
   "source": [
    "path_results = f'../../results/sim2real'"
   ]
  },
  {
   "cell_type": "code",
   "execution_count": null,
   "id": "b4acb510-382f-4f95-a7e1-b0f8a5ad8163",
   "metadata": {},
   "outputs": [],
   "source": [
    "csv_filename = os.path.join(path_results, version, 'logs', 'metrics.csv')\n",
    "metrics = {}\n",
    "with open(csv_filename) as csvfile:\n",
    "    reader = csv.reader(csvfile, delimiter=',')\n",
    "    for i,row in enumerate(reader):\n",
    "        if i == 0:\n",
    "            for header in row:\n",
    "                metrics[header] = []\n",
    "            key_list = list(metrics.keys())\n",
    "        else:\n",
    "            for j,value in enumerate(row):\n",
    "                metrics[key_list[j]].append(value)"
   ]
  },
  {
   "cell_type": "code",
   "execution_count": null,
   "id": "78148d0e-69b5-4967-9923-5f94c53d089f",
   "metadata": {},
   "outputs": [],
   "source": [
    "print(metrics.keys())"
   ]
  },
  {
   "cell_type": "code",
   "execution_count": null,
   "id": "1daa7afc-ed05-4003-b5f3-3e280b48a1ce",
   "metadata": {},
   "outputs": [],
   "source": [
    "# Clean up the metrics\n",
    "for key,value in metrics.items():\n",
    "    if key == 'epoch':\n",
    "        metrics[key] = np.unique(np.asarray(value, dtype=int))\n",
    "    elif key == 'step':\n",
    "        pass\n",
    "    else:\n",
    "        metrics[key] = [float(i) for i in value if i != '']"
   ]
  },
  {
   "cell_type": "code",
   "execution_count": null,
   "id": "20a2a40a-a153-4bbb-a11d-02c6e6346483",
   "metadata": {},
   "outputs": [],
   "source": [
    "# Let's just plot all of the metrics in their own plots\n",
    "\n",
    "fig, ax = plt.subplots(len(metrics.keys()) - 2, 1, figsize=(5,5))\n",
    "\n",
    "counter = 0\n",
    "for key, value in metrics.items():\n",
    "    if key == 'epoch' or key == 'step':\n",
    "        pass\n",
    "    else:\n",
    "        ax[counter].plot(metrics['epoch'], metrics[key])\n",
    "        ax[counter].set_title(key)\n",
    "        ax[counter].set_xlabel('epoch')\n",
    "        if 'classifier' in key:\n",
    "            ax[counter].set_ylabel(\"Cross entropy\")\n",
    "        elif key == 'loss_train' or key == 'loss_val':\n",
    "            ax[counter].set_ylabel(\"MCL\")\n",
    "        else:\n",
    "            ax[counter].set_ylabel(\"MSE\")\n",
    "        counter +=1\n",
    "plt.tight_layout()"
   ]
  },
  {
   "cell_type": "markdown",
   "id": "91f0fd3c-46aa-4303-b8b7-ac5687203dbe",
   "metadata": {},
   "source": [
    "## Plot the learned calibration layer"
   ]
  },
  {
   "cell_type": "code",
   "execution_count": null,
   "id": "565c3849-83f5-40c1-b7f3-6d9c0111c5d5",
   "metadata": {},
   "outputs": [],
   "source": [
    "path_checkpoint = f'../../results/sim2real/{version}/checkpoints/last.ckpt'\n",
    "state_dict = torch.load(path_checkpoint, weights_only = True)['state_dict']\n",
    "initial_amplitude = state_dict['dom.layers.1.modulator.initial_amplitude'].squeeze().detach().cpu().numpy()\n",
    "initial_phase = state_dict['dom.layers.1.modulator.initial_phase'].squeeze().detach().cpu().numpy()\n",
    "optim_amplitude = state_dict['dom.layers.1.modulator.optimizeable_amplitude'].squeeze().detach().cpu().numpy()\n",
    "optim_phase = state_dict['dom.layers.1.modulator.optimizeable_phase'].squeeze().detach().cpu().numpy()"
   ]
  },
  {
   "cell_type": "code",
   "execution_count": null,
   "id": "c9bf87ce-c59e-499d-8456-2e90c045fbd2",
   "metadata": {},
   "outputs": [],
   "source": [
    "fig, ax = plt.subplots(2,2, figsize=(8,5))\n",
    "\n",
    "im0 = ax[0][0].imshow(initial_amplitude)\n",
    "divider = make_axes_locatable(ax[0][0])\n",
    "cax = divider.append_axes('right', size='5%', pad=0.05)\n",
    "fig.colorbar(im0, cax=cax, orientation='vertical')\n",
    "\n",
    "im1 = ax[0][1].imshow(initial_phase)\n",
    "divider = make_axes_locatable(ax[0][1])\n",
    "cax = divider.append_axes('right', size='5%', pad=0.05)\n",
    "fig.colorbar(im1, cax=cax, orientation='vertical')\n",
    "\n",
    "im2 = ax[1][0].imshow(optim_amplitude)\n",
    "divider = make_axes_locatable(ax[1][0])\n",
    "cax = divider.append_axes('right', size='5%', pad=0.05)\n",
    "fig.colorbar(im2, cax=cax, orientation='vertical')\n",
    "\n",
    "im3 = ax[1][1].imshow(optim_phase)\n",
    "divider = make_axes_locatable(ax[1][1])\n",
    "cax = divider.append_axes('right', size='5%', pad=0.05)\n",
    "fig.colorbar(im3, cax=cax, orientation='vertical')\n",
    "\n",
    "for a in ax.flatten():\n",
    "    a.axis('off')\n",
    "plt.tight_layout()"
   ]
  },
  {
   "cell_type": "markdown",
   "id": "427dd15e-4f74-4d42-82e4-4f92a494f1df",
   "metadata": {},
   "source": [
    "## Plot 3 examples from each dataset"
   ]
  },
  {
   "cell_type": "code",
   "execution_count": null,
   "id": "e56d43c6-73c3-4c60-8100-7ea780c944a3",
   "metadata": {},
   "outputs": [],
   "source": [
    "fig, ax = plt.subplots(3, 4, figsize = (10,5))\n",
    "\n",
    "indices = torch.randint(low=0, high=len(train_files), size=(3,))\n",
    "\n",
    "for j,i in enumerate(indices):\n",
    "    data = torch.load(train_files[i], weights_only=True)\n",
    "    ax[j][0].imshow(data['resampled_sample'].squeeze().cpu().detach())\n",
    "    ax[j][1].imshow(data['bench_image'].squeeze().cpu().detach())\n",
    "    ax[j][2].imshow(data['sim_output'].squeeze().cpu().detach())\n",
    "    ax[j][3].imshow(data['sim2real_output'].squeeze().cpu().detach())\n",
    "\n",
    "for a in ax.flatten():\n",
    "    a.axis('off')\n",
    "\n",
    "plt.tight_layout()"
   ]
  },
  {
   "cell_type": "markdown",
   "id": "68f2a0a0-8d7c-4fb6-ab80-655823aa9433",
   "metadata": {},
   "source": [
    "## Image metrics"
   ]
  },
  {
   "cell_type": "code",
   "execution_count": null,
   "id": "47e73900-44c0-4b60-9e17-08fc95ac5b1c",
   "metadata": {
    "scrolled": true
   },
   "outputs": [],
   "source": [
    "mse_values = {'ideal_to_sim':[], 'ideal_to_bench':[], 'ideal_to_sim2real':[], 'bench_to_sim':[], 'bench_to_sim2real':[], 'sim_to_sim2real':[]}\n",
    "ssim_values = {'ideal_to_sim':[], 'ideal_to_bench':[], 'ideal_to_sim2real':[], 'bench_to_sim':[], 'bench_to_sim2real':[], 'sim_to_sim2real':[]}\n",
    "psnr_values = {'ideal_to_sim':[], 'ideal_to_bench':[], 'ideal_to_sim2real':[], 'bench_to_sim':[], 'bench_to_sim2real':[], 'sim_to_sim2real':[]}\n",
    "min_values = {'ideal': [], 'bench':[], 'sim':[], 'sim2real':[]}\n",
    "max_values = {'ideal': [], 'bench':[], 'sim':[], 'sim2real':[]}\n",
    "\n",
    "for i,file in enumerate(tqdm(train_files + valid_files)):\n",
    "    data = torch.load(file, weights_only=True)\n",
    "    resampled_sample = data['resampled_sample'].cuda()\n",
    "    bench_image = data['bench_image'].cuda().unsqueeze(0).unsqueeze(0)\n",
    "    sim_output = data['sim_output'].cuda().unsqueeze(0).unsqueeze(0)\n",
    "    sim2real_output = data['sim2real_output'].cuda()\n",
    "\n",
    "    mse_ideal_to_sim = mse(resampled_sample, sim_output).cpu()\n",
    "    mse_ideal_to_bench = mse(resampled_sample, bench_image).cpu()\n",
    "    mse_ideal_to_sim2real = mse(resampled_sample, sim2real_output).cpu()\n",
    "    mse_bench_to_sim = mse(bench_image, sim_output).cpu()\n",
    "    mse_bench_to_sim2real = mse(bench_image, sim2real_output).cpu()\n",
    "    mse_sim_to_sim2real = mse(sim_output, sim2real_output).cpu()\n",
    "\n",
    "    ssim_ideal_to_sim = ssim(resampled_sample, sim_output).cpu()\n",
    "    ssim_ideal_to_bench = ssim(resampled_sample, bench_image).cpu()\n",
    "    ssim_ideal_to_sim2real = ssim(resampled_sample, sim2real_output).cpu()\n",
    "    ssim_bench_to_sim = ssim(bench_image, sim_output).cpu()\n",
    "    ssim_bench_to_sim2real = ssim(bench_image, sim2real_output).cpu()\n",
    "    ssim_sim_to_sim2real = ssim(sim_output, sim2real_output).cpu()\n",
    "\n",
    "    psnr_ideal_to_sim = psnr(resampled_sample, sim_output).cpu()\n",
    "    psnr_ideal_to_bench = psnr(resampled_sample, bench_image).cpu()\n",
    "    psnr_ideal_to_sim2real = psnr(resampled_sample, sim2real_output).cpu()\n",
    "    psnr_bench_to_sim = psnr(bench_image, sim_output).cpu()\n",
    "    psnr_bench_to_sim2real = psnr(bench_image, sim2real_output).cpu()\n",
    "    psnr_sim_to_sim2real = psnr(sim_output, sim2real_output).cpu()\n",
    "\n",
    "    mse_values['ideal_to_sim'].append(mse_ideal_to_sim)\n",
    "    mse_values['ideal_to_bench'].append(mse_ideal_to_bench)\n",
    "    mse_values['ideal_to_sim2real'].append(mse_ideal_to_sim2real)\n",
    "    mse_values['bench_to_sim'].append(mse_bench_to_sim)\n",
    "    mse_values['bench_to_sim2real'].append(mse_bench_to_sim2real)\n",
    "    mse_values['sim_to_sim2real'].append(mse_sim_to_sim2real)\n",
    "\n",
    "    ssim_values['ideal_to_sim'].append(ssim_ideal_to_sim)\n",
    "    ssim_values['ideal_to_bench'].append(ssim_ideal_to_bench)\n",
    "    ssim_values['ideal_to_sim2real'].append(ssim_ideal_to_sim2real)\n",
    "    ssim_values['bench_to_sim'].append(ssim_bench_to_sim)\n",
    "    ssim_values['bench_to_sim2real'].append(ssim_bench_to_sim2real)\n",
    "    ssim_values['sim_to_sim2real'].append(ssim_sim_to_sim2real)\n",
    "\n",
    "    psnr_values['ideal_to_sim'].append(psnr_ideal_to_sim)\n",
    "    psnr_values['ideal_to_bench'].append(psnr_ideal_to_bench)\n",
    "    psnr_values['ideal_to_sim2real'].append(psnr_ideal_to_sim2real)\n",
    "    psnr_values['bench_to_sim'].append(psnr_bench_to_sim)\n",
    "    psnr_values['bench_to_sim2real'].append(psnr_bench_to_sim2real)\n",
    "    psnr_values['sim_to_sim2real'].append(psnr_sim_to_sim2real)\n",
    "\n",
    "    min_values['ideal'].append(torch.min(resampled_sample).cpu())\n",
    "    min_values['bench'].append(torch.min(bench_image).cpu())\n",
    "    min_values['sim'].append(torch.min(sim_output).cpu())\n",
    "    min_values['sim2real'].append(torch.min(sim2real_output).cpu())\n",
    "    \n",
    "    max_values['ideal'].append(torch.max(resampled_sample).cpu())\n",
    "    max_values['bench'].append(torch.max(bench_image).cpu())\n",
    "    max_values['sim'].append(torch.max(sim_output).cpu())\n",
    "    max_values['sim2real'].append(torch.max(sim2real_output).cpu())\n"
   ]
  },
  {
   "cell_type": "code",
   "execution_count": null,
   "id": "1165b6cd-c1a9-4f06-859d-525fa4d244c4",
   "metadata": {},
   "outputs": [],
   "source": [
    "# Clean up the values\n",
    "\n",
    "for key,value in mse_values.items():\n",
    "    array = value\n",
    "    array = [i.numpy() for i in array]\n",
    "    mse_values[key] = np.asarray(array)\n",
    "\n",
    "for key,value in ssim_values.items():\n",
    "    array = value\n",
    "    array = [i.numpy() for i in array]\n",
    "    ssim_values[key] = np.asarray(array)\n",
    "\n",
    "for key,value in psnr_values.items():\n",
    "    array = value\n",
    "    array = [i.numpy() for i in array]\n",
    "    psnr_values[key] = np.asarray(array)\n",
    "\n",
    "for key,value in min_values.items():\n",
    "    array = value\n",
    "    array = [i.numpy() for i in array]\n",
    "    min_values[key] = np.asarray(array)\n",
    "\n",
    "for key,value in max_values.items():\n",
    "    array = value\n",
    "    array = [i.numpy() for i in array]\n",
    "    max_values[key] = np.asarray(array)"
   ]
  },
  {
   "cell_type": "markdown",
   "id": "523d7ec8-d62c-451b-9224-f41a17e9b90e",
   "metadata": {},
   "source": [
    "## Violin plots now"
   ]
  },
  {
   "cell_type": "code",
   "execution_count": null,
   "id": "ce954eca-95c0-4025-becc-8f7975a6835b",
   "metadata": {},
   "outputs": [],
   "source": [
    "fig, ax = plt.subplots(1,1, figsize=(8,5))\n",
    "labels = ['Ideal to Bench', 'Ideal to Sim', 'Ideal to Sim2Real', 'Bench to Sim', 'Bench to Sim2Real', 'Sim to Sim2Real']\n",
    "\n",
    "\n",
    "bp0 = ax.violinplot([mse_values['ideal_to_bench'], \n",
    "                     mse_values['ideal_to_sim'], \n",
    "                     mse_values['ideal_to_sim2real'], \n",
    "                     mse_values['bench_to_sim'], \n",
    "                     mse_values['bench_to_sim2real'],\n",
    "                     mse_values['sim_to_sim2real']], \n",
    "                     points=1000, showmeans=True)\n",
    "\n",
    "\n",
    "ax.set_xticks([i+1 for i in range(len(labels))], labels, rotation=45)\n",
    "ax.set_ylabel(\"MSE\")"
   ]
  },
  {
   "cell_type": "code",
   "execution_count": null,
   "id": "5bfcb51e-4e84-40ee-873c-f39b01e321f6",
   "metadata": {},
   "outputs": [],
   "source": [
    "fig, ax = plt.subplots(1,1, figsize=(8,5))\n",
    "labels = ['Ideal to Bench', 'Ideal to Sim', 'Ideal to Sim2Real', 'Bench to Sim', 'Bench to Sim2Real', 'Sim to Sim2Real']\n",
    "\n",
    "\n",
    "bp0 = ax.violinplot([ssim_values['ideal_to_bench'], \n",
    "                     ssim_values['ideal_to_sim'], \n",
    "                     ssim_values['ideal_to_sim2real'], \n",
    "                     ssim_values['bench_to_sim'], \n",
    "                     ssim_values['bench_to_sim2real'],\n",
    "                     ssim_values['sim_to_sim2real']], \n",
    "                     points=1000, showmeans=True)\n",
    "\n",
    "\n",
    "ax.set_xticks([i+1 for i in range(len(labels))], labels, rotation=45)\n",
    "ax.set_ylabel(\"SSIM\")"
   ]
  },
  {
   "cell_type": "code",
   "execution_count": null,
   "id": "963fdb27-5dfd-4cf9-9135-27fe47011fce",
   "metadata": {},
   "outputs": [],
   "source": [
    "fig, ax = plt.subplots(1,1, figsize=(8,5))\n",
    "labels = ['Ideal to Bench', 'Ideal to Sim', 'Ideal to Sim2Real', 'Bench to Sim', 'Bench to Sim2Real', 'Sim to Sim2Real']\n",
    "\n",
    "\n",
    "bp0 = ax.violinplot([psnr_values['ideal_to_bench'], \n",
    "                     psnr_values['ideal_to_sim'], \n",
    "                     psnr_values['ideal_to_sim2real'], \n",
    "                     psnr_values['bench_to_sim'], \n",
    "                     psnr_values['bench_to_sim2real'],\n",
    "                     psnr_values['sim_to_sim2real']], \n",
    "                     points=1000, showmeans=True)\n",
    "\n",
    "\n",
    "ax.set_xticks([i+1 for i in range(len(labels))], labels, rotation=45)\n",
    "ax.set_ylabel(\"PSNR\")"
   ]
  },
  {
   "cell_type": "code",
   "execution_count": null,
   "id": "5b9d7dd6-0188-466e-bebe-9c94c600c3f2",
   "metadata": {},
   "outputs": [],
   "source": [
    "fig, ax = plt.subplots(1,1, figsize=(8,5))\n",
    "labels = ['Ideal', 'Sim', 'Bench', 'Sim2Real']\n",
    "\n",
    "\n",
    "bp0 = ax.violinplot([min_values['ideal'], \n",
    "                     min_values['sim'], \n",
    "                     min_values['bench'], \n",
    "                     min_values['sim2real']], \n",
    "                     points=1000, showmeans=True)\n",
    "\n",
    "\n",
    "ax.set_xticks([i+1 for i in range(len(labels))], labels, rotation=45)\n",
    "ax.set_ylabel(\"Min values\")"
   ]
  },
  {
   "cell_type": "code",
   "execution_count": null,
   "id": "bd05843a-a711-4ec6-bc6b-1bfa20ac1553",
   "metadata": {},
   "outputs": [],
   "source": [
    "fig, ax = plt.subplots(1,1, figsize=(8,5))\n",
    "labels = ['Ideal', 'Sim', 'Bench', 'Sim2Real']\n",
    "\n",
    "\n",
    "bp0 = ax.violinplot([max_values['ideal'], \n",
    "                     max_values['sim'], \n",
    "                     max_values['bench'], \n",
    "                     max_values['sim2real']], \n",
    "                     points=1000, showmeans=True)\n",
    "\n",
    "\n",
    "ax.set_xticks([i+1 for i in range(len(labels))], labels, rotation=45)\n",
    "ax.set_ylabel(\"Max values\")"
   ]
  }
 ],
 "metadata": {
  "kernelspec": {
   "display_name": "Python 3 (ipykernel)",
   "language": "python",
   "name": "python3"
  },
  "language_info": {
   "codemirror_mode": {
    "name": "ipython",
    "version": 3
   },
   "file_extension": ".py",
   "mimetype": "text/x-python",
   "name": "python",
   "nbconvert_exporter": "python",
   "pygments_lexer": "ipython3",
   "version": "3.12.4"
  }
 },
 "nbformat": 4,
 "nbformat_minor": 5
}
