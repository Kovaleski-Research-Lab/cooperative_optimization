{
 "cells": [
  {
   "cell_type": "code",
   "execution_count": 11,
   "id": "b365cfd0-0ad2-4d06-bafc-84cd0f7699d4",
   "metadata": {},
   "outputs": [],
   "source": [
    "import torch\n",
    "import matplotlib.pyplot as plt\n",
    "import numpy as np\n",
    "import yaml\n",
    "import sys\n",
    "sys.path.append('../')\n",
    "from models.models import CooperativeOpticalModelRemote\n",
    "import csv"
   ]
  },
  {
   "cell_type": "code",
   "execution_count": 9,
   "id": "51fcfdbb-0b73-45fd-bd1a-ee78d3d90ee5",
   "metadata": {},
   "outputs": [],
   "source": [
    "config = yaml.load(open('../../config_coop.yaml', 'r'), Loader = yaml.FullLoader)\n",
    "config['paths']['path_root'] = '../../'"
   ]
  },
  {
   "cell_type": "code",
   "execution_count": 10,
   "id": "1b6ce80e-eb16-4df3-8a13-9027480a2f0e",
   "metadata": {},
   "outputs": [
    {
     "name": "stderr",
     "output_type": "stream",
     "text": [
      "\u001b[32m2024-12-18 10:59:52.086\u001b[0m | \u001b[1mINFO    \u001b[0m | \u001b[36mmodels.models\u001b[0m:\u001b[36madd_slms\u001b[0m:\u001b[36m474\u001b[0m - \u001b[1m{'status': 'SLM added successfully'}\u001b[0m\n",
      "\u001b[32m2024-12-18 10:59:52.199\u001b[0m | \u001b[1mINFO    \u001b[0m | \u001b[36mmodels.models\u001b[0m:\u001b[36madd_slms\u001b[0m:\u001b[36m474\u001b[0m - \u001b[1m{'status': 'SLM added successfully'}\u001b[0m\n",
      "\u001b[32m2024-12-18 10:59:53.688\u001b[0m | \u001b[1mINFO    \u001b[0m | \u001b[36mmodels.models\u001b[0m:\u001b[36madd_camera\u001b[0m:\u001b[36m487\u001b[0m - \u001b[1m{'status': 'Camera added successfully'}\u001b[0m\n",
      "\u001b[32m2024-12-18 10:59:53.690\u001b[0m | \u001b[34m\u001b[1mDEBUG   \u001b[0m | \u001b[36mdiffractive_optical_model.diffractive_optical_model\u001b[0m:\u001b[36mselect_objective\u001b[0m:\u001b[36m59\u001b[0m - \u001b[34m\u001b[1mDON | setting objective function to mse\u001b[0m\n",
      "\u001b[32m2024-12-18 10:59:53.692\u001b[0m | \u001b[34m\u001b[1mDEBUG   \u001b[0m | \u001b[36mdiffractive_optical_model.plane.plane\u001b[0m:\u001b[36m__init__\u001b[0m:\u001b[36m9\u001b[0m - \u001b[34m\u001b[1mInitializing plane input_plane\u001b[0m\n",
      "\u001b[32m2024-12-18 10:59:53.693\u001b[0m | \u001b[34m\u001b[1mDEBUG   \u001b[0m | \u001b[36mdiffractive_optical_model.plane.plane\u001b[0m:\u001b[36mfix_types\u001b[0m:\u001b[36m33\u001b[0m - \u001b[34m\u001b[1mFixing types for plane input_plane\u001b[0m\n",
      "\u001b[32m2024-12-18 10:59:53.694\u001b[0m | \u001b[34m\u001b[1mDEBUG   \u001b[0m | \u001b[36mdiffractive_optical_model.plane.plane\u001b[0m:\u001b[36mcreate_rotation_matrix\u001b[0m:\u001b[36m142\u001b[0m - \u001b[34m\u001b[1mCreating rotation matrix\u001b[0m\n",
      "\u001b[32m2024-12-18 10:59:53.696\u001b[0m | \u001b[34m\u001b[1mDEBUG   \u001b[0m | \u001b[36mdiffractive_optical_model.plane.plane\u001b[0m:\u001b[36mcreate_rotation_matrix\u001b[0m:\u001b[36m155\u001b[0m - \u001b[34m\u001b[1mInput and output plane normals are the same.\u001b[0m\n",
      "\u001b[32m2024-12-18 10:59:53.697\u001b[0m | \u001b[34m\u001b[1mDEBUG   \u001b[0m | \u001b[36mdiffractive_optical_model.plane.plane\u001b[0m:\u001b[36mbuild_plane\u001b[0m:\u001b[36m63\u001b[0m - \u001b[34m\u001b[1mBuilding plane input_plane\u001b[0m\n",
      "\u001b[32m2024-12-18 10:59:53.699\u001b[0m | \u001b[34m\u001b[1mDEBUG   \u001b[0m | \u001b[36mdiffractive_optical_model.plane.plane\u001b[0m:\u001b[36m__init__\u001b[0m:\u001b[36m9\u001b[0m - \u001b[34m\u001b[1mInitializing plane lens_plane\u001b[0m\n",
      "\u001b[32m2024-12-18 10:59:53.700\u001b[0m | \u001b[34m\u001b[1mDEBUG   \u001b[0m | \u001b[36mdiffractive_optical_model.plane.plane\u001b[0m:\u001b[36mfix_types\u001b[0m:\u001b[36m33\u001b[0m - \u001b[34m\u001b[1mFixing types for plane lens_plane\u001b[0m\n",
      "\u001b[32m2024-12-18 10:59:53.701\u001b[0m | \u001b[34m\u001b[1mDEBUG   \u001b[0m | \u001b[36mdiffractive_optical_model.plane.plane\u001b[0m:\u001b[36mcreate_rotation_matrix\u001b[0m:\u001b[36m142\u001b[0m - \u001b[34m\u001b[1mCreating rotation matrix\u001b[0m\n",
      "\u001b[32m2024-12-18 10:59:53.703\u001b[0m | \u001b[34m\u001b[1mDEBUG   \u001b[0m | \u001b[36mdiffractive_optical_model.plane.plane\u001b[0m:\u001b[36mcreate_rotation_matrix\u001b[0m:\u001b[36m155\u001b[0m - \u001b[34m\u001b[1mInput and output plane normals are the same.\u001b[0m\n",
      "\u001b[32m2024-12-18 10:59:53.704\u001b[0m | \u001b[34m\u001b[1mDEBUG   \u001b[0m | \u001b[36mdiffractive_optical_model.plane.plane\u001b[0m:\u001b[36mbuild_plane\u001b[0m:\u001b[36m63\u001b[0m - \u001b[34m\u001b[1mBuilding plane lens_plane\u001b[0m\n",
      "\u001b[32m2024-12-18 10:59:53.706\u001b[0m | \u001b[1mINFO    \u001b[0m | \u001b[36mdiffractive_optical_model.modulator.initializations.amplitude_initializations\u001b[0m:\u001b[36minitialize_amplitude\u001b[0m:\u001b[36m7\u001b[0m - \u001b[1mUniform amplitude initialization\u001b[0m\n",
      "\u001b[32m2024-12-18 10:59:53.711\u001b[0m | \u001b[1mINFO    \u001b[0m | \u001b[36mdiffractive_optical_model.modulator.initializations.phase_initializations\u001b[0m:\u001b[36minitialize_phase\u001b[0m:\u001b[36m8\u001b[0m - \u001b[1mUniform phase initialization\u001b[0m\n",
      "\u001b[32m2024-12-18 10:59:53.717\u001b[0m | \u001b[1mINFO    \u001b[0m | \u001b[36mdiffractive_optical_model.modulator.factory\u001b[0m:\u001b[36minitialize_gradients\u001b[0m:\u001b[36m39\u001b[0m - \u001b[1mNo modulator optimization\u001b[0m\n",
      "\u001b[32m2024-12-18 10:59:54.233\u001b[0m | \u001b[34m\u001b[1mDEBUG   \u001b[0m | \u001b[36mdiffractive_optical_model.plane.plane\u001b[0m:\u001b[36m__init__\u001b[0m:\u001b[36m9\u001b[0m - \u001b[34m\u001b[1mInitializing plane lens_plane\u001b[0m\n",
      "\u001b[32m2024-12-18 10:59:54.234\u001b[0m | \u001b[34m\u001b[1mDEBUG   \u001b[0m | \u001b[36mdiffractive_optical_model.plane.plane\u001b[0m:\u001b[36mfix_types\u001b[0m:\u001b[36m33\u001b[0m - \u001b[34m\u001b[1mFixing types for plane lens_plane\u001b[0m\n",
      "\u001b[32m2024-12-18 10:59:54.234\u001b[0m | \u001b[34m\u001b[1mDEBUG   \u001b[0m | \u001b[36mdiffractive_optical_model.plane.plane\u001b[0m:\u001b[36mcreate_rotation_matrix\u001b[0m:\u001b[36m142\u001b[0m - \u001b[34m\u001b[1mCreating rotation matrix\u001b[0m\n",
      "\u001b[32m2024-12-18 10:59:54.235\u001b[0m | \u001b[34m\u001b[1mDEBUG   \u001b[0m | \u001b[36mdiffractive_optical_model.plane.plane\u001b[0m:\u001b[36mcreate_rotation_matrix\u001b[0m:\u001b[36m155\u001b[0m - \u001b[34m\u001b[1mInput and output plane normals are the same.\u001b[0m\n",
      "\u001b[32m2024-12-18 10:59:54.235\u001b[0m | \u001b[34m\u001b[1mDEBUG   \u001b[0m | \u001b[36mdiffractive_optical_model.plane.plane\u001b[0m:\u001b[36mbuild_plane\u001b[0m:\u001b[36m63\u001b[0m - \u001b[34m\u001b[1mBuilding plane lens_plane\u001b[0m\n",
      "\u001b[32m2024-12-18 10:59:54.236\u001b[0m | \u001b[34m\u001b[1mDEBUG   \u001b[0m | \u001b[36mdiffractive_optical_model.plane.plane\u001b[0m:\u001b[36m__init__\u001b[0m:\u001b[36m9\u001b[0m - \u001b[34m\u001b[1mInitializing plane output_plane\u001b[0m\n",
      "\u001b[32m2024-12-18 10:59:54.237\u001b[0m | \u001b[34m\u001b[1mDEBUG   \u001b[0m | \u001b[36mdiffractive_optical_model.plane.plane\u001b[0m:\u001b[36mfix_types\u001b[0m:\u001b[36m33\u001b[0m - \u001b[34m\u001b[1mFixing types for plane output_plane\u001b[0m\n",
      "\u001b[32m2024-12-18 10:59:54.237\u001b[0m | \u001b[34m\u001b[1mDEBUG   \u001b[0m | \u001b[36mdiffractive_optical_model.plane.plane\u001b[0m:\u001b[36mcreate_rotation_matrix\u001b[0m:\u001b[36m142\u001b[0m - \u001b[34m\u001b[1mCreating rotation matrix\u001b[0m\n",
      "\u001b[32m2024-12-18 10:59:54.238\u001b[0m | \u001b[34m\u001b[1mDEBUG   \u001b[0m | \u001b[36mdiffractive_optical_model.plane.plane\u001b[0m:\u001b[36mcreate_rotation_matrix\u001b[0m:\u001b[36m155\u001b[0m - \u001b[34m\u001b[1mInput and output plane normals are the same.\u001b[0m\n",
      "\u001b[32m2024-12-18 10:59:54.238\u001b[0m | \u001b[34m\u001b[1mDEBUG   \u001b[0m | \u001b[36mdiffractive_optical_model.plane.plane\u001b[0m:\u001b[36mbuild_plane\u001b[0m:\u001b[36m63\u001b[0m - \u001b[34m\u001b[1mBuilding plane output_plane\u001b[0m\n",
      "\u001b[32m2024-12-18 10:59:54.239\u001b[0m | \u001b[1mINFO    \u001b[0m | \u001b[36mdiffractive_optical_model.modulator.initializations.amplitude_initializations\u001b[0m:\u001b[36minitialize_amplitude\u001b[0m:\u001b[36m7\u001b[0m - \u001b[1mUniform amplitude initialization\u001b[0m\n",
      "\u001b[32m2024-12-18 10:59:54.241\u001b[0m | \u001b[1mINFO    \u001b[0m | \u001b[36mdiffractive_optical_model.modulator.initializations.phase_initializations\u001b[0m:\u001b[36minitialize_phase\u001b[0m:\u001b[36m14\u001b[0m - \u001b[1mLens phase initialization\u001b[0m\n",
      "\u001b[32m2024-12-18 10:59:54.246\u001b[0m | \u001b[1mINFO    \u001b[0m | \u001b[36mdiffractive_optical_model.modulator.factory\u001b[0m:\u001b[36minitialize_gradients\u001b[0m:\u001b[36m27\u001b[0m - \u001b[1mPhase only optimization\u001b[0m\n",
      "\u001b[32m2024-12-18 10:59:55.650\u001b[0m | \u001b[34m\u001b[1mDEBUG   \u001b[0m | \u001b[36mdiffractive_optical_model.plane.plane\u001b[0m:\u001b[36m__init__\u001b[0m:\u001b[36m9\u001b[0m - \u001b[34m\u001b[1mInitializing plane input_plane\u001b[0m\n",
      "\u001b[32m2024-12-18 10:59:55.651\u001b[0m | \u001b[34m\u001b[1mDEBUG   \u001b[0m | \u001b[36mdiffractive_optical_model.plane.plane\u001b[0m:\u001b[36mfix_types\u001b[0m:\u001b[36m33\u001b[0m - \u001b[34m\u001b[1mFixing types for plane input_plane\u001b[0m\n",
      "\u001b[32m2024-12-18 10:59:55.651\u001b[0m | \u001b[34m\u001b[1mDEBUG   \u001b[0m | \u001b[36mdiffractive_optical_model.plane.plane\u001b[0m:\u001b[36mcreate_rotation_matrix\u001b[0m:\u001b[36m142\u001b[0m - \u001b[34m\u001b[1mCreating rotation matrix\u001b[0m\n",
      "\u001b[32m2024-12-18 10:59:55.652\u001b[0m | \u001b[34m\u001b[1mDEBUG   \u001b[0m | \u001b[36mdiffractive_optical_model.plane.plane\u001b[0m:\u001b[36mcreate_rotation_matrix\u001b[0m:\u001b[36m155\u001b[0m - \u001b[34m\u001b[1mInput and output plane normals are the same.\u001b[0m\n",
      "\u001b[32m2024-12-18 10:59:55.652\u001b[0m | \u001b[34m\u001b[1mDEBUG   \u001b[0m | \u001b[36mdiffractive_optical_model.plane.plane\u001b[0m:\u001b[36mbuild_plane\u001b[0m:\u001b[36m63\u001b[0m - \u001b[34m\u001b[1mBuilding plane input_plane\u001b[0m\n",
      "\u001b[32m2024-12-18 10:59:55.653\u001b[0m | \u001b[34m\u001b[1mDEBUG   \u001b[0m | \u001b[36mdiffractive_optical_model.plane.plane\u001b[0m:\u001b[36mbuild_plane\u001b[0m:\u001b[36m63\u001b[0m - \u001b[34m\u001b[1mBuilding plane input_plane\u001b[0m\n",
      "\u001b[32m2024-12-18 10:59:55.654\u001b[0m | \u001b[1mINFO    \u001b[0m | \u001b[36mmodels.models\u001b[0m:\u001b[36m__init__\u001b[0m:\u001b[36m425\u001b[0m - \u001b[1mLoading classifier from checkpoint\u001b[0m\n",
      "\u001b[32m2024-12-18 10:59:55.921\u001b[0m | \u001b[1mINFO    \u001b[0m | \u001b[36mmodels.models\u001b[0m:\u001b[36mselect_model\u001b[0m:\u001b[36m62\u001b[0m - \u001b[1mTransfer learning\u001b[0m\n",
      "\u001b[32m2024-12-18 10:59:56.011\u001b[0m | \u001b[1mINFO    \u001b[0m | \u001b[36mmodels.models\u001b[0m:\u001b[36mselect_model\u001b[0m:\u001b[36m88\u001b[0m - \u001b[1mTraining backbone\u001b[0m\n",
      "\u001b[32m2024-12-18 10:59:56.054\u001b[0m | \u001b[1mINFO    \u001b[0m | \u001b[36mmodels.models\u001b[0m:\u001b[36m__init__\u001b[0m:\u001b[36m428\u001b[0m - \u001b[1mFreezing backbone\u001b[0m\n",
      "\u001b[32m2024-12-18 10:59:56.055\u001b[0m | \u001b[1mINFO    \u001b[0m | \u001b[36mmodels.models\u001b[0m:\u001b[36m__init__\u001b[0m:\u001b[36m433\u001b[0m - \u001b[1mFreezing linear\u001b[0m\n",
      "\u001b[32m2024-12-18 10:59:56.077\u001b[0m | \u001b[33m\u001b[1mWARNING \u001b[0m | \u001b[36mmodels.models\u001b[0m:\u001b[36mupload_benign_image\u001b[0m:\u001b[36m514\u001b[0m - \u001b[33m\u001b[1mUploading benign image to SLM\u001b[0m\n",
      "\u001b[32m2024-12-18 10:59:56.729\u001b[0m | \u001b[1mINFO    \u001b[0m | \u001b[36mmodels.models\u001b[0m:\u001b[36msend_to_slm\u001b[0m:\u001b[36m510\u001b[0m - \u001b[1m{'status': 'ok', 'message': 'Image received successfully'}\u001b[0m\n",
      "\u001b[32m2024-12-18 10:59:57.977\u001b[0m | \u001b[1mINFO    \u001b[0m | \u001b[36mmodels.models\u001b[0m:\u001b[36msend_to_slm\u001b[0m:\u001b[36m510\u001b[0m - \u001b[1m{'status': 'ok', 'message': 'Image received successfully'}\u001b[0m\n"
     ]
    }
   ],
   "source": [
    "model = CooperativeOpticalModelRemote(config)"
   ]
  },
  {
   "cell_type": "code",
   "execution_count": null,
   "id": "a578eb09-5a31-480c-9e78-36ac0ddccad5",
   "metadata": {},
   "outputs": [],
   "source": [
    "f1_scores = torch.load('../../results/classifier_baseline_bench_bench_image/version_1/"
   ]
  }
 ],
 "metadata": {
  "kernelspec": {
   "display_name": "Python 3 (ipykernel)",
   "language": "python",
   "name": "python3"
  },
  "language_info": {
   "codemirror_mode": {
    "name": "ipython",
    "version": 3
   },
   "file_extension": ".py",
   "mimetype": "text/x-python",
   "name": "python",
   "nbconvert_exporter": "python",
   "pygments_lexer": "ipython3",
   "version": "3.12.4"
  }
 },
 "nbformat": 4,
 "nbformat_minor": 5
}
