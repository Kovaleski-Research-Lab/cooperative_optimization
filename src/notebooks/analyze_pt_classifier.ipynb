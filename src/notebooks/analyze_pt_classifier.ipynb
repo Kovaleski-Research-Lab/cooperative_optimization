{
 "cells": [
  {
   "cell_type": "code",
   "execution_count": null,
   "id": "54380cf9-8477-4b8b-9608-71c085f54271",
   "metadata": {},
   "outputs": [],
   "source": [
    "import torch\n",
    "import numpy as np\n",
    "import matplotlib.pyplot as plt\n",
    "import yaml\n",
    "import os\n",
    "import csv\n",
    "from sklearn.metrics import confusion_matrix\n",
    "from tqdm.notebook import tqdm\n",
    "import pandas as pd\n",
    "import seaborn as sns\n",
    "import sys\n",
    "from torchmetrics import ConfusionMatrix\n",
    "from torchmetrics.classification import F1Score, Accuracy, Precision, Recall\n",
    "sys.path.append('../')\n",
    "from datamodule.datamodule import select_data\n",
    "from models.models import Classifier"
   ]
  },
  {
   "cell_type": "code",
   "execution_count": null,
   "id": "eccc355b-1308-4ce7-b24b-407783e2b8eb",
   "metadata": {},
   "outputs": [],
   "source": [
    "print(plt.style.available)\n",
    "plt.style.use('seaborn-v0_8-dark-palette')"
   ]
  },
  {
   "cell_type": "code",
   "execution_count": null,
   "id": "c692046b-7f73-4f1a-9827-d622b23486a6",
   "metadata": {},
   "outputs": [],
   "source": [
    "path_root = '../../'\n",
    "path_results = os.path.join(path_root, 'results/pt_classifier_analysis')\n",
    "config = yaml.load(open(os.path.join(path_root, 'config.yaml')), Loader=yaml.FullLoader)\n",
    "config['paths']['path_root'] = path_root\n",
    "os.makedirs(path_results, exist_ok=True)"
   ]
  },
  {
   "cell_type": "code",
   "execution_count": null,
   "id": "5b338daf-7ba7-4153-9103-9283b4a1fa38",
   "metadata": {},
   "outputs": [],
   "source": [
    "csv_filename = '../../results/coop_bench_alpha_0.0_beta_0.0_gamma_0.0_delta_1.0/version_4/logs/metrics.csv'\n",
    "metrics = {}\n",
    "with open(csv_filename) as csvfile:\n",
    "    reader = csv.reader(csvfile, delimiter=',')\n",
    "    for i,row in enumerate(reader):\n",
    "        if i == 0:\n",
    "            for header in row:\n",
    "                metrics[header] = []\n",
    "            key_list = list(metrics.keys())\n",
    "        else:\n",
    "            for j,value in enumerate(row):\n",
    "                metrics[key_list[j]].append(value)"
   ]
  },
  {
   "cell_type": "code",
   "execution_count": null,
   "id": "68108a5f-ecc5-4e71-a56d-6b79f4eb6f86",
   "metadata": {},
   "outputs": [],
   "source": [
    "print(metrics.keys())"
   ]
  },
  {
   "cell_type": "code",
   "execution_count": null,
   "id": "5409b97f-a27c-43ab-83fb-f5cb3767e3d7",
   "metadata": {},
   "outputs": [],
   "source": [
    "# Clean up the metrics\n",
    "metrics['epoch'] = np.unique(np.asarray(metrics['epoch'], dtype=int))\n",
    "metrics['loss_train'] = np.asarray([float(i) for i in metrics['loss_train'] if i != ''])\n",
    "metrics['loss_val'] = np.asarray([float(i) for i in metrics['loss_val'] if i != ''])"
   ]
  },
  {
   "cell_type": "code",
   "execution_count": null,
   "id": "b4fd2c97-8eb3-4467-917b-66d2e72c39c3",
   "metadata": {},
   "outputs": [],
   "source": [
    "fig , ax = plt.subplots(1,1, figsize=(8,5))\n",
    "\n",
    "ax.plot(metrics['epoch'], metrics['loss_train'], label = \"Train loss\")\n",
    "ax.plot(metrics['epoch'], metrics['loss_val'], label = \"Validation loss\")\n",
    "ax.set_xlabel(\"Epoch\")\n",
    "ax.set_ylabel(\"Cross Entropy Loss\")\n",
    "ax.set_xticks([i for i in range(0,21,2)], [i for i in range(0,21,2)])\n",
    "ax.legend(loc='upper left')"
   ]
  },
  {
   "cell_type": "code",
   "execution_count": null,
   "id": "a80547fc-cda6-40b0-8df3-ac542ce0eca9",
   "metadata": {},
   "outputs": [],
   "source": [
    "np.where(metrics['loss_train'] == metrics['loss_train'].min())"
   ]
  },
  {
   "cell_type": "code",
   "execution_count": null,
   "id": "6d4a9ff9-cda9-4292-bb57-b7f27a5465be",
   "metadata": {},
   "outputs": [],
   "source": [
    "config['paths']['path_data'] = 'data/post_training'\n",
    "pt_filenames = [os.path.join(config['paths']['path_root'], config['paths']['path_data'], i) for i in os.listdir(os.path.join(config['paths']['path_root'], config['paths']['path_data']))]\n",
    "pt_filenames.sort()\n",
    "pt_bench_images = [torch.load(f, weights_only=True)['bench_image'].squeeze().detach() for f in tqdm(pt_filenames)]\n",
    "pt_sim_images = [torch.load(f, weights_only=True)['sim_output'].squeeze().detach() for f in tqdm(pt_filenames)]\n",
    "pt_ideal_images = [torch.load(f, weights_only=True)['resampled_sample'].squeeze().detach() for f in tqdm(pt_filenames)]\n",
    "\n",
    "pt_targets = [torch.argmax(torch.load(f, weights_only=True)['target']) for f in tqdm(pt_filenames)]\n",
    "pt_targets = pt_targets.squeeze()\n",
    "pt_unique_targets = np.unique(pt_targets)"
   ]
  },
  {
   "cell_type": "code",
   "execution_count": null,
   "id": "86763602-fb0f-4e34-af0b-c2dc64c0ef86",
   "metadata": {},
   "outputs": [],
   "source": [
    "pt_targets = torch.from_numpy(pt_targets)"
   ]
  },
  {
   "cell_type": "code",
   "execution_count": null,
   "id": "eed7bbae-ca21-4f14-a0e5-e440a3e13d32",
   "metadata": {
    "scrolled": true
   },
   "outputs": [],
   "source": [
    "pt_filenames[800:]"
   ]
  },
  {
   "cell_type": "code",
   "execution_count": null,
   "id": "070923aa-96c4-4d4d-8943-ef786d1d16d3",
   "metadata": {},
   "outputs": [],
   "source": [
    "train_indices = []\n",
    "valid_indices = []\n",
    "for i,fil"
   ]
  },
  {
   "cell_type": "code",
   "execution_count": null,
   "id": "6d4cbc95-173a-426d-bf8f-07faaa73a264",
   "metadata": {},
   "outputs": [],
   "source": [
    "checkpoint_path = '../../results/classifier_baseline_bench_resampled_sample/version_0/checkpoints/last.ckpt'\n",
    "classifier = Classifier.load_from_checkpoint(checkpoint_path).double().cuda()"
   ]
  },
  {
   "cell_type": "code",
   "execution_count": null,
   "id": "60cb376d-26ef-424f-9ce8-409a2dbcd1a1",
   "metadata": {},
   "outputs": [],
   "source": [
    "bench_results = []\n",
    "sim_results = []\n",
    "ideal_results = []\n",
    "pbar = tqdm(total=len(pt_sim_images))\n",
    "for sim_image, bench_image, ideal_image, target in zip(pt_sim_images, pt_bench_images, pt_ideal_images, pt_targets):\n",
    "    sim_image = sim_image.unsqueeze(0).unsqueeze(0)\n",
    "    sim_sample = torch.cat((sim_image, sim_image, sim_image), dim=1).cuda()\n",
    "    \n",
    "    sim_pred = classifier(sim_sample)\n",
    "    sim_pred = torch.argmax(sim_pred, dim=-1).cpu()\n",
    "\n",
    "    bench_image = bench_image.unsqueeze(0).unsqueeze(0)\n",
    "    bench_sample = torch.cat((bench_image, bench_image, bench_image), dim=1).cuda()\n",
    "    bench_pred = classifier(bench_sample)\n",
    "    bench_pred = torch.argmax(bench_pred, dim=-1).cpu()\n",
    "\n",
    "\n",
    "    ideal_image = ideal_image.unsqueeze(0).unsqueeze(0)\n",
    "    ideal_sample = torch.cat((ideal_image, ideal_image, ideal_image), dim=1).cuda()\n",
    "    ideal_pred = classifier(ideal_sample)\n",
    "    ideal_pred = torch.argmax(ideal_pred, dim=-1).cpu()\n",
    "        \n",
    "    bench_results.append([bench_pred, target])\n",
    "    sim_results.append([sim_pred, target])\n",
    "    ideal_results.append([ideal_pred, target])\n",
    "    pbar.update(1)"
   ]
  },
  {
   "cell_type": "code",
   "execution_count": null,
   "id": "752db100-e3b9-4f78-bdf2-868e91e30c5d",
   "metadata": {},
   "outputs": [],
   "source": [
    "torch.save(bench_results, 'pt_bench_results.pt')\n",
    "torch.save(sim_results, 'pt_sim_results.pt')\n",
    "torch.save(ideal_results, 'pt_ideal_results.pt')"
   ]
  },
  {
   "cell_type": "code",
   "execution_count": null,
   "id": "f2b60536-4bb7-46ee-b822-420badf7d70a",
   "metadata": {},
   "outputs": [],
   "source": [
    "bench_results = torch.load('pt_bench_results.pt', weights_only=True)\n",
    "sim_results = torch.load('pt_sim_results.pt', weights_only=True)\n",
    "ideal_results = torch.load('pt_ideal_results.pt', weights_only=True)"
   ]
  },
  {
   "cell_type": "code",
   "execution_count": null,
   "id": "bca875f6-0402-4354-9089-630ba8ec051d",
   "metadata": {},
   "outputs": [],
   "source": [
    "bench_results = torch.stack([torch.stack((i[0].squeeze(), i[1].squeeze())) for i in bench_results])\n",
    "sim_results = torch.stack([torch.stack([i[0].squeeze(), i[1].squeeze()]) for i in sim_results])\n",
    "ideal_results = torch.stack([torch.stack([i[0].squeeze(), i[1].squeeze()]) for i in ideal_results])"
   ]
  },
  {
   "cell_type": "code",
   "execution_count": null,
   "id": "237cef7c-624a-4e0e-807d-5692c30aa930",
   "metadata": {},
   "outputs": [],
   "source": [
    "bench_results_train = bench_results[:-200]\n",
    "bench_results_valid = bench_results[800:]\n",
    "\n",
    "sim_results_train = sim_results[:-200]\n",
    "sim_results_valid = sim_results[800:]\n",
    "\n",
    "ideal_results_train = ideal_results[:-200]\n",
    "ideal_results_valid = ideal_results[800:]"
   ]
  },
  {
   "cell_type": "code",
   "execution_count": null,
   "id": "42c2b7d5-593c-4e92-9a21-744501d7ffd6",
   "metadata": {},
   "outputs": [],
   "source": [
    "confmat = ConfusionMatrix(task=\"multiclass\", num_classes=10)"
   ]
  },
  {
   "cell_type": "code",
   "execution_count": null,
   "id": "2e70d6b6-c1c2-4d0c-ad16-c9b434605fef",
   "metadata": {},
   "outputs": [],
   "source": [
    "bench_cfm_train = confmat(bench_results_train[:,0], bench_results_train[:,1])\n",
    "sim_cfm_train = confmat(sim_results_train[:,0], sim_results_train[:,1])\n",
    "ideal_cfm_train = confmat(ideal_results_train[:,0], ideal_results_train[:,1])\n",
    "\n",
    "bench_cfm_valid = confmat(bench_results_valid[:,0], bench_results_valid[:,1])\n",
    "sim_cfm_valid = confmat(sim_results_valid[:,0], sim_results_valid[:,1])\n",
    "ideal_cfm_valid = confmat(ideal_results_valid[:,0], ideal_results_valid[:,1])"
   ]
  },
  {
   "cell_type": "code",
   "execution_count": null,
   "id": "aa4ccbba-b1d9-4655-942b-0ab712fb01b4",
   "metadata": {},
   "outputs": [],
   "source": [
    "bench_df_train = pd.DataFrame(bench_cfm_train, index = [i for i in range(0,10)], columns = [i for i in range(0,10)])\n",
    "sim_df_train = pd.DataFrame(sim_cfm_train, index = [i for i in range(0,10)], columns = [i for i in range(0,10)])\n",
    "ideal_df_train = pd.DataFrame(ideal_cfm_train, index = [i for i in range(0,10)], columns = [i for i in range(0,10)])\n",
    "\n",
    "bench_df_valid = pd.DataFrame(bench_cfm_valid, index = [i for i in range(0,10)], columns = [i for i in range(0,10)])\n",
    "sim_df_valid = pd.DataFrame(sim_cfm_valid, index = [i for i in range(0,10)], columns = [i for i in range(0,10)])\n",
    "ideal_df_valid = pd.DataFrame(ideal_cfm_valid, index = [i for i in range(0,10)], columns = [i for i in range(0,10)])"
   ]
  },
  {
   "cell_type": "code",
   "execution_count": null,
   "id": "585684f0-2389-4985-9447-56951a30d220",
   "metadata": {},
   "outputs": [],
   "source": [
    "fig, ax = plt.subplots(2,3, figsize=(15,10))\n",
    "sns.heatmap(ideal_df_train, annot=True, ax=ax[0][0], square=True, cbar=False, cmap='Blues')\n",
    "sns.heatmap(sim_df_train, annot=True, ax=ax[0][1], square=True, cbar=False, cmap='Blues')\n",
    "sns.heatmap(bench_df_train, annot=True, ax=ax[0][2], square=True, cbar=False, cmap='Blues')\n",
    "\n",
    "sns.heatmap(ideal_df_valid, annot=True, ax=ax[1][0], square=True, cbar=False, cmap='Blues')\n",
    "sns.heatmap(sim_df_valid, annot=True, ax=ax[1][1], square=True, cbar=False, cmap='Blues')\n",
    "sns.heatmap(bench_df_valid, annot=True, ax=ax[1][2], square=True, cbar=False, cmap='Blues')\n",
    "\n",
    "for a in ax.flatten():\n",
    "    a.set_ylabel(\"Truth\")\n",
    "    a.set_xlabel(\"Prediction\")\n",
    "plt.tight_layout()\n",
    "fig.savefig('pt_cfm.pdf')\n",
    "fig.savefig('pt_cfm_png')"
   ]
  },
  {
   "cell_type": "code",
   "execution_count": null,
   "id": "f4051489-3f7a-4d63-9651-3aab8488ae8f",
   "metadata": {},
   "outputs": [],
   "source": []
  },
  {
   "cell_type": "code",
   "execution_count": null,
   "id": "22a71dca-7b86-4cf7-96f9-a0c4c4e47a14",
   "metadata": {},
   "outputs": [],
   "source": [
    "f1 = F1Score(task='multiclass', num_classes=10)"
   ]
  },
  {
   "cell_type": "code",
   "execution_count": null,
   "id": "6236cc66-02ca-47fc-aca2-bb3415d25f3c",
   "metadata": {},
   "outputs": [],
   "source": [
    "bench_f1_train = f1(bench_results_train[:,0], bench_results_train[:,1])\n",
    "bench_f1_valid = f1(bench_results_valid[:,0], bench_results_valid[:,1])\n"
   ]
  },
  {
   "cell_type": "code",
   "execution_count": null,
   "id": "4ab66933-3bd6-4a6d-8a9c-52c559c7dc8d",
   "metadata": {},
   "outputs": [],
   "source": [
    "print(bench_f1_train)\n",
    "print(bench_f1_valid)"
   ]
  },
  {
   "cell_type": "code",
   "execution_count": null,
   "id": "242f9fd0-574d-4652-a45b-ec315b8cb614",
   "metadata": {},
   "outputs": [],
   "source": []
  }
 ],
 "metadata": {
  "kernelspec": {
   "display_name": "Python 3 (ipykernel)",
   "language": "python",
   "name": "python3"
  },
  "language_info": {
   "codemirror_mode": {
    "name": "ipython",
    "version": 3
   },
   "file_extension": ".py",
   "mimetype": "text/x-python",
   "name": "python",
   "nbconvert_exporter": "python",
   "pygments_lexer": "ipython3",
   "version": "3.12.4"
  }
 },
 "nbformat": 4,
 "nbformat_minor": 5
}
