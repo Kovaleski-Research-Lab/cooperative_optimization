{
 "cells": [
  {
   "cell_type": "code",
   "execution_count": null,
   "id": "ab8e0e67-d9c8-4318-bb3e-a2a8d2753b52",
   "metadata": {},
   "outputs": [],
   "source": [
    "import numpy as np\n",
    "import torch\n",
    "import sys\n",
    "import os\n",
    "from diffractive_optical_model.diffractive_optical_model import DOM\n",
    "import yaml\n",
    "import matplotlib.pyplot as plt\n",
    "sys.path.append('../')\n",
    "from models.models import Classifier"
   ]
  },
  {
   "cell_type": "code",
   "execution_count": null,
   "id": "5738ba37-e242-4726-b472-b57cc4a77914",
   "metadata": {},
   "outputs": [],
   "source": [
    "checkpoint = '../../results/coop_bench_alpha_0.0_beta_0.0_gamma_0.0_delta_1.0/version_2/checkpoints/last.ckpt'\n",
    "config = '../../results/coop_bench_alpha_0.0_beta_0.0_gamma_0.0_delta_1.0/version_2/config.yaml'\n",
    "config = yaml.load(open(config, 'r'), Loader=yaml.FullLoader)"
   ]
  },
  {
   "cell_type": "code",
   "execution_count": null,
   "id": "d338634d-4f46-44dd-9e1f-01e4eb5b567a",
   "metadata": {},
   "outputs": [],
   "source": [
    "checkpoint = torch.load(checkpoint, weights_only=True)\n",
    "state_dict = checkpoint['state_dict']"
   ]
  },
  {
   "cell_type": "code",
   "execution_count": null,
   "id": "8f4e2938-0dc6-4823-b34b-a4ed4082e384",
   "metadata": {},
   "outputs": [],
   "source": [
    "state_dict.keys()"
   ]
  },
  {
   "cell_type": "code",
   "execution_count": null,
   "id": "7db806f3-87e9-4645-9948-3585a3c34566",
   "metadata": {},
   "outputs": [],
   "source": [
    "#initial_phase = state_dict['dom.layers.1.modulator.initial_phase'].detach().squeeze().cpu()\n",
    "#learned_phase = state_dict['dom.layers.1.modulator.optimizeable_phase'].detach().squeeze().cpu()\n",
    "background_image = state_dict['background_image']"
   ]
  },
  {
   "cell_type": "code",
   "execution_count": null,
   "id": "bf66401e-1e65-4b61-9da9-645473ce12ce",
   "metadata": {},
   "outputs": [],
   "source": [
    "converted_phase = torch.nn.functional.sigmoid(learned_phase) * torch.pi * 2"
   ]
  },
  {
   "cell_type": "code",
   "execution_count": null,
   "id": "788e5bc5-59f7-4803-aea2-cb73ae686a08",
   "metadata": {},
   "outputs": [],
   "source": [
    "plt.imshow(background_image.squeeze().detach().cpu())"
   ]
  },
  {
   "cell_type": "code",
   "execution_count": null,
   "id": "c8d2742d-1d28-46bb-9a77-f41135a180d3",
   "metadata": {},
   "outputs": [],
   "source": [
    "combined_phase = initial_phase + converted_phase"
   ]
  },
  {
   "cell_type": "code",
   "execution_count": null,
   "id": "62122dcd-f56e-44c9-b2f4-372dbad485ed",
   "metadata": {},
   "outputs": [],
   "source": [
    "plt.imshow(1-(combined_phase % (2*torch.pi)))"
   ]
  },
  {
   "cell_type": "code",
   "execution_count": null,
   "id": "6bc6302f-8aa9-4434-8fdd-0da417e5b675",
   "metadata": {},
   "outputs": [],
   "source": []
  }
 ],
 "metadata": {
  "kernelspec": {
   "display_name": "Python 3 (ipykernel)",
   "language": "python",
   "name": "python3"
  },
  "language_info": {
   "codemirror_mode": {
    "name": "ipython",
    "version": 3
   },
   "file_extension": ".py",
   "mimetype": "text/x-python",
   "name": "python",
   "nbconvert_exporter": "python",
   "pygments_lexer": "ipython3",
   "version": "3.12.4"
  }
 },
 "nbformat": 4,
 "nbformat_minor": 5
}
