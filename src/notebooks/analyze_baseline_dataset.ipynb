{
 "cells": [
  {
   "cell_type": "code",
   "execution_count": null,
   "id": "cb5c94ee-f2d7-4ce4-8118-b89e0c1c3e1f",
   "metadata": {},
   "outputs": [],
   "source": [
    "import numpy as np\n",
    "import torch\n",
    "import os\n",
    "import matplotlib.pyplot as plt\n",
    "from tqdm import tqdm\n",
    "import sys\n",
    "import yaml\n",
    "sys.path.append('../../src/')\n",
    "from datamodule.datamodule import select_data\n",
    "\n",
    "from torchmetrics.functional.image import peak_signal_noise_ratio as psnr\n",
    "from torchmetrics.functional import mean_squared_error as mse\n",
    "from torchmetrics.functional.image import structural_similarity_index_measure as ssim\n",
    "\n",
    "import pytorch_lightning as pl\n",
    "pl.seed_everything(123)"
   ]
  },
  {
   "cell_type": "code",
   "execution_count": null,
   "id": "d1108401-8abc-421a-931a-0887b9ae50b3",
   "metadata": {},
   "outputs": [],
   "source": [
    "print(plt.style.available)\n",
    "plt.style.use('seaborn-v0_8-dark-palette')\n",
    "# https://www.color-hex.com/color-palette/1294\n",
    "# https://personal.sron.nl/~pault/\n",
    "# https://colorbrewer2.org/#type=sequential&scheme=BuPu&n=3"
   ]
  },
  {
   "cell_type": "code",
   "execution_count": null,
   "id": "652b4da5-8934-4538-b1fa-4054ec0115c6",
   "metadata": {},
   "outputs": [],
   "source": [
    "path_data = '../../data/baseline/'\n",
    "path_results = '../../results/baseline_image_analysis'\n",
    "os.makedirs(path_results, exist_ok=True)\n",
    "files = os.listdir(path_data)\n",
    "files = [os.path.join(path_data,f) for f in files if f.endswith('.pt')]"
   ]
  },
  {
   "cell_type": "markdown",
   "id": "e0b35f8f-df82-4673-a251-dcb430518aab",
   "metadata": {},
   "source": [
    "## Histogram of classes"
   ]
  },
  {
   "cell_type": "code",
   "execution_count": null,
   "id": "4755b006-0bbc-489c-8c5d-101436479da6",
   "metadata": {},
   "outputs": [],
   "source": [
    "train_classes = []\n",
    "valid_classes = []\n",
    "\n",
    "for f in tqdm(files):\n",
    "    data = torch.load(f, weights_only=True)\n",
    "    if 'train' in f:\n",
    "        train_classes.append(torch.argmax(data['target']))\n",
    "    elif 'valid' in f:\n",
    "        valid_classes.append(torch.argmax(data['target']))\n",
    "    else:\n",
    "        pass"
   ]
  },
  {
   "cell_type": "code",
   "execution_count": null,
   "id": "4416bd35-b1d2-463c-9cf5-904420706ee3",
   "metadata": {},
   "outputs": [],
   "source": [
    "n_bins = 10\n",
    "fig, ax = plt.subplots(2, 1, figsize=(5,5))\n",
    "style = {'facecolor': '#bbccee', 'edgecolor': '#222255', 'linewidth': 1}\n",
    "# We can set the number of bins with the *bins* keyword argument.\n",
    "n, bins_train, patches = ax[0].hist(train_classes, bins=n_bins, **style)\n",
    "n, bins_valid, patches = ax[1].hist(valid_classes, bins=n_bins, **style)\n",
    "\n",
    "ax[0].set_title(\"Training dataset\")\n",
    "ax[1].set_title(\"Validation dataset\")\n",
    "bin_centers = 0.5 * np.diff(bins_train) + bins_train[:-1]\n",
    "\n",
    "for a in ax.flatten():\n",
    "    a.set_xticks(bin_centers, [i for i in range(0,10)])\n",
    "    a.set_ylabel(\"Counts\")\n",
    "    a.set_xlabel(\"Class\")\n",
    "plt.tight_layout()\n",
    "fig.savefig(os.path.join(path_results, 'dataset_histogram.pdf'))"
   ]
  },
  {
   "cell_type": "markdown",
   "id": "de226129-ee47-47d0-9ecf-5a67f9d86d3e",
   "metadata": {},
   "source": [
    "## Images"
   ]
  },
  {
   "cell_type": "code",
   "execution_count": null,
   "id": "07a80e80-ec65-4509-9fe7-fe7f1a9fe2a6",
   "metadata": {},
   "outputs": [],
   "source": [
    "# Get 3 random indices\n",
    "indices = torch.randint(low=0, high=len(files), size=(3,))\n",
    "\n",
    "simulation_images = []\n",
    "bench_images = []\n",
    "ideal_images = []\n",
    "\n",
    "for i in indices:\n",
    "    data = torch.load(files[i], weights_only=True)\n",
    "    simulation_images.append(data['sim_output'].squeeze())\n",
    "    bench_images.append(data['bench_image'].squeeze())\n",
    "    ideal_images.append(data['resampled_sample'].squeeze())\n",
    "bench_images_normalized = [i / torch.max(i) for i in bench_images]\n",
    "simulation_images_normalized = [i / torch.max(i) for i in simulation_images]"
   ]
  },
  {
   "cell_type": "code",
   "execution_count": null,
   "id": "287f6ff6-01eb-4855-a043-d428a54fabe1",
   "metadata": {},
   "outputs": [],
   "source": [
    "fig, ax = plt.subplots(3,3,figsize=(8,5))\n",
    "\n",
    "for i in range(len(indices)):\n",
    "    ax[i][0].imshow(ideal_images[i], cmap='viridis', vmin=0, vmax=1)\n",
    "    ax[i][1].imshow(simulation_images[i], cmap='viridis', vmin=0, vmax=1)\n",
    "    ax[i][2].imshow(bench_images[i], cmap='viridis', vmin=0, vmax=1)\n",
    "\n",
    "ax[0][0].set_title(\"Ideal image\")\n",
    "ax[0][1].set_title(\"Simulated image\")\n",
    "ax[0][2].set_title(\"Bench image\")\n",
    "\n",
    "for a in ax.flatten():\n",
    "    a.grid(False)\n",
    "    a.axis(False)\n",
    "plt.tight_layout()\n",
    "fig.savefig(os.path.join(path_results, 'image_examples.pdf'))"
   ]
  },
  {
   "cell_type": "code",
   "execution_count": null,
   "id": "5e28ce6c-ac1b-4b77-bab3-6724bef47e95",
   "metadata": {},
   "outputs": [],
   "source": [
    "fig, ax = plt.subplots(3,3,figsize=(8,5))\n",
    "\n",
    "for i in range(len(indices)):\n",
    "    ax[i][0].imshow(ideal_images[i], cmap='viridis', vmin=0, vmax=1)\n",
    "    ax[i][1].imshow(simulation_images_normalized[i], cmap='viridis', vmin=0, vmax=1)\n",
    "    ax[i][2].imshow(bench_images_normalized[i], cmap='viridis', vmin=0, vmax=1)\n",
    "\n",
    "ax[0][0].set_title(\"Ideal image\")\n",
    "ax[0][1].set_title(\"Simulated image\")\n",
    "ax[0][2].set_title(\"Bench image\")\n",
    "\n",
    "for a in ax.flatten():\n",
    "    a.grid(False)\n",
    "    a.axis(False)\n",
    "plt.tight_layout()\n",
    "fig.savefig(os.path.join(path_results, 'image_examples_normalized.pdf'))"
   ]
  },
  {
   "cell_type": "code",
   "execution_count": null,
   "id": "17e39f5c-b584-4048-9c60-86befc77a4f5",
   "metadata": {},
   "outputs": [],
   "source": [
    "fig, ax = plt.subplots(3,3,figsize=(8,5))\n",
    "\n",
    "for i in range(len(indices)):\n",
    "    ax[i][0].imshow(np.abs(ideal_images[i] - simulation_images[i]), cmap='viridis', vmin=0, vmax=1)\n",
    "    ax[i][1].imshow(np.abs(ideal_images[i] - bench_images[i]), cmap='viridis', vmin=0, vmax=1)\n",
    "    ax[i][2].imshow(np.abs(simulation_images[i] - bench_images[i]), cmap='viridis', vmin=0, vmax=1)\n",
    "\n",
    "ax[0][0].set_title(\"Ideal - simulation\")\n",
    "ax[0][1].set_title(\"Ideal - bench\")\n",
    "ax[0][2].set_title(\"Simulation - bench\")\n",
    "\n",
    "for a in ax.flatten():\n",
    "    a.grid(False)\n",
    "    a.axis(False)\n",
    "plt.tight_layout()\n",
    "fig.savefig(os.path.join(path_results, 'image_difference.pdf'))"
   ]
  },
  {
   "cell_type": "code",
   "execution_count": null,
   "id": "21ebb518-e4a7-4b8a-b772-cbb1df4e9811",
   "metadata": {},
   "outputs": [],
   "source": [
    "fig, ax = plt.subplots(3,3,figsize=(8,5))\n",
    "\n",
    "for i in range(len(indices)):\n",
    "    ax[i][0].imshow(np.abs(ideal_images[i] - simulation_images_normalized[i]), cmap='viridis', vmin=0, vmax=1)\n",
    "    ax[i][1].imshow(np.abs(ideal_images[i] - bench_images_normalized[i]), cmap='viridis', vmin=0, vmax=1)\n",
    "    ax[i][2].imshow(np.abs(simulation_images_normalized[i] - bench_images_normalized[i]), cmap='viridis', vmin=0, vmax=1)\n",
    "\n",
    "ax[0][0].set_title(\"Ideal - simulation\")\n",
    "ax[0][1].set_title(\"Ideal - bench\")\n",
    "ax[0][2].set_title(\"Simulation - bench\")\n",
    "\n",
    "for a in ax.flatten():\n",
    "    a.grid(False)\n",
    "    a.axis(False)\n",
    "plt.tight_layout()\n",
    "fig.savefig(os.path.join(path_results, 'image_difference_normalized.pdf'))"
   ]
  },
  {
   "cell_type": "markdown",
   "id": "b8a4de41-0f47-4649-9b94-38d12393ff0e",
   "metadata": {},
   "source": [
    "## Metrics"
   ]
  },
  {
   "cell_type": "code",
   "execution_count": null,
   "id": "e656ae53-9e94-4177-a68a-cfefb1cb452a",
   "metadata": {},
   "outputs": [],
   "source": [
    "sim_2_bench_mse = []\n",
    "sim_2_ideal_mse = []\n",
    "bench_2_ideal_mse = []\n",
    "\n",
    "sim_2_bench_psnr = []\n",
    "sim_2_ideal_psnr = []\n",
    "bench_2_ideal_psnr = []\n",
    "\n",
    "sim_2_bench_ssim = []\n",
    "sim_2_ideal_ssim = []\n",
    "bench_2_ideal_ssim = []\n",
    "\n",
    "sim_max = []\n",
    "bench_max = []\n",
    "sim_min = []\n",
    "bench_min = []\n",
    "sim_mean = []\n",
    "bench_mean = []\n",
    "for f in tqdm(files):\n",
    "    data = torch.load(f, weights_only=True)\n",
    "    simulation_image = data['sim_output'].squeeze()\n",
    "    bench_image = data['bench_image'].squeeze()\n",
    "    ideal_image = data['resampled_sample'].squeeze()\n",
    "    sim_2_ideal_mse.append(mse(ideal_image, simulation_image))\n",
    "    sim_2_bench_mse.append(mse(simulation_image, bench_image))\n",
    "    bench_2_ideal_mse.append(mse(ideal_image, bench_image))\n",
    "\n",
    "    sim_2_ideal_psnr.append(psnr(ideal_image, simulation_image))\n",
    "    sim_2_bench_psnr.append(psnr(simulation_image, bench_image))\n",
    "    bench_2_ideal_psnr.append(psnr(ideal_image, bench_image))\n",
    "\n",
    "    ideal_image_shape = ideal_image.shape\n",
    "    simulation_image_shape = simulation_image.shape\n",
    "    bench_image_shape = bench_image.shape\n",
    "\n",
    "    ideal_image = ideal_image.view(1,1,ideal_image_shape[-2], ideal_image_shape[-1])\n",
    "    simulation_image = simulation_image.view(1,1,simulation_image_shape[-2], simulation_image_shape[-1])\n",
    "    bench_image = bench_image.view(1,1,bench_image_shape[-2], bench_image_shape[-1])\n",
    "    \n",
    "    sim_2_ideal_ssim.append(ssim(ideal_image, simulation_image))\n",
    "    sim_2_bench_ssim.append(ssim(simulation_image, bench_image))\n",
    "    bench_2_ideal_ssim.append(ssim(ideal_image, bench_image))\n",
    "\n",
    "    sim_max.append(torch.max(simulation_image))\n",
    "    bench_max.append(torch.max(bench_image))\n",
    "    sim_min.append(torch.min(simulation_image))\n",
    "    bench_min.append(torch.min(bench_image))\n",
    "    sim_mean.append(torch.mean(simulation_image))\n",
    "    bench_mean.append(torch.mean(bench_image))"
   ]
  },
  {
   "cell_type": "code",
   "execution_count": null,
   "id": "61732d0a-72e2-485f-a3f9-8fb7a75999a4",
   "metadata": {},
   "outputs": [],
   "source": [
    "labels = ['Simulation to ideal', 'Bench to ideal', 'Simulation to bench']\n",
    "\n",
    "fig, ax = plt.subplots(3,1,figsize=(5,8))\n",
    "\n",
    "bp0 = ax[0].violinplot([sim_2_ideal_mse, bench_2_ideal_mse, sim_2_bench_mse], points=800, showmeans=True)\n",
    "ax[0].set_xticks([i+1 for i in range(len(labels))], labels)\n",
    "ax[0].set_ylabel(r'MSE $\\downarrow$')\n",
    "\n",
    "bp1 = ax[1].violinplot([sim_2_ideal_psnr, bench_2_ideal_psnr, sim_2_bench_psnr], points=800, showmeans=True)\n",
    "ax[1].set_xticks([i+1 for i in range(len(labels))], labels)\n",
    "ax[1].set_ylabel(r'PSNR $\\uparrow$')\n",
    "\n",
    "bp2 = ax[2].violinplot([sim_2_ideal_ssim, bench_2_ideal_ssim, sim_2_bench_ssim], points=800, showmeans=True)\n",
    "ax[2].set_xticks([i+1 for i in range(len(labels))], labels)\n",
    "ax[2].set_ylabel(r'SSIM $\\uparrow$')\n",
    "plt.tight_layout()\n",
    "fig.savefig(os.path.join(path_results, 'image_comparison_violin.pdf'))"
   ]
  },
  {
   "cell_type": "code",
   "execution_count": null,
   "id": "c1e1fd15-8591-47fc-97f2-ec6098b95ede",
   "metadata": {},
   "outputs": [],
   "source": [
    "labels = ['Simulation', 'Bench']\n",
    "\n",
    "fig, ax = plt.subplots(1,1,figsize=(5,4))\n",
    "\n",
    "bp0 = ax.violinplot([sim_max, bench_max], points=800, showmeans=True)\n",
    "ax.set_xticks([i+1 for i in range(len(labels))], labels)\n",
    "ax.set_ylabel('Max pixel value')\n",
    "plt.tight_layout()\n",
    "fig.savefig(os.path.join(path_results, 'max_pixel_values_violin.pdf'))"
   ]
  },
  {
   "cell_type": "code",
   "execution_count": null,
   "id": "7f451c5b-9a30-4a49-8a2a-148daff47a15",
   "metadata": {},
   "outputs": [],
   "source": [
    "labels = ['Simulation', 'Bench']\n",
    "\n",
    "fig, ax = plt.subplots(1,1,figsize=(5,4))\n",
    "\n",
    "bp0 = ax.violinplot([sim_min, bench_min], points=800, showmeans=True)\n",
    "ax.set_xticks([i+1 for i in range(len(labels))], labels)\n",
    "ax.set_ylabel('Min pixel value')\n",
    "plt.tight_layout()\n",
    "fig.savefig(os.path.join(path_results, 'min_pixel_values_violin.pdf'))"
   ]
  },
  {
   "cell_type": "code",
   "execution_count": null,
   "id": "ee3f488b-a393-4f82-bf00-bc55dd94de2f",
   "metadata": {},
   "outputs": [],
   "source": [
    "labels = ['Simulation', 'Bench']\n",
    "\n",
    "fig, ax = plt.subplots(1,1,figsize=(5,4))\n",
    "\n",
    "bp0 = ax.violinplot([sim_mean, bench_mean], points=800, showmeans=True)\n",
    "ax.set_xticks([i+1 for i in range(len(labels))], labels)\n",
    "ax.set_ylabel('Mean pixel value')\n",
    "plt.tight_layout()\n",
    "fig.savefig(os.path.join(path_results, 'mean_pixel_values_violin.pdf'))"
   ]
  },
  {
   "cell_type": "markdown",
   "id": "a99f6ca7-d5a9-455e-b536-5ecb8c110314",
   "metadata": {},
   "source": [
    "## Signal vs noise count statistics"
   ]
  },
  {
   "cell_type": "code",
   "execution_count": null,
   "id": "0165829f-602e-4470-a9d8-beeaad19f778",
   "metadata": {},
   "outputs": [],
   "source": []
  }
 ],
 "metadata": {
  "kernelspec": {
   "display_name": "Python 3 (ipykernel)",
   "language": "python",
   "name": "python3"
  },
  "language_info": {
   "codemirror_mode": {
    "name": "ipython",
    "version": 3
   },
   "file_extension": ".py",
   "mimetype": "text/x-python",
   "name": "python",
   "nbconvert_exporter": "python",
   "pygments_lexer": "ipython3",
   "version": "3.12.2"
  }
 },
 "nbformat": 4,
 "nbformat_minor": 5
}
