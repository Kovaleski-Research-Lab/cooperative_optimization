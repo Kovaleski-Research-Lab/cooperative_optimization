{
 "cells": [
  {
   "cell_type": "code",
   "execution_count": null,
   "id": "a1303c70-ee25-4737-a397-0dc6fbac24dd",
   "metadata": {},
   "outputs": [],
   "source": [
    "import numpy as np\n",
    "import matplotlib.pyplot as plt\n",
    "import pint\n",
    "import os\n",
    "u = pint.UnitRegistry()"
   ]
  },
  {
   "cell_type": "code",
   "execution_count": null,
   "id": "a7fdd9b6-7465-45f0-9411-fd6995ba369b",
   "metadata": {},
   "outputs": [],
   "source": [
    "print(plt.style.available)\n",
    "plt.style.use('seaborn-v0_8-dark-palette')\n",
    "# https://www.color-hex.com/color-palette/1294\n",
    "# https://personal.sron.nl/~pault/\n",
    "# https://colorbrewer2.org/#type=sequential&scheme=BuPu&n=3"
   ]
  },
  {
   "cell_type": "code",
   "execution_count": null,
   "id": "bd819245-ab2e-4b9f-bf52-28f9025be893",
   "metadata": {},
   "outputs": [],
   "source": [
    "path_results = '../../results/discrete_lens_limitations'\n",
    "os.makedirs(path_results, exist_ok=True)"
   ]
  },
  {
   "cell_type": "code",
   "execution_count": null,
   "id": "6b1a191e-053e-4e88-8ac1-cfc5b5248557",
   "metadata": {},
   "outputs": [],
   "source": [
    "Lx = 15.36 * u.mm\n",
    "delta_x = 8 * u.um\n",
    "L_diag = 8.89 * u.mm\n",
    "delta_diag = 11.3 * u.um\n",
    "wavelength = 520 * u.nm\n",
    "wavelength = 520 * u.nm\n",
    "M = 0.6"
   ]
  },
  {
   "cell_type": "code",
   "execution_count": null,
   "id": "0234e2a4-70cf-44b1-b7cd-bcfe476267f0",
   "metadata": {},
   "outputs": [],
   "source": [
    "fmin_x = ((Lx / 2) * delta_x) / wavelength\n",
    "fmin_x = fmin_x.to(u.mm)\n",
    "fmin_diag = ((L_diag * delta_diag)) / wavelength\n",
    "fmin_diag = fmin_diag.to(u.mm)\n"
   ]
  },
  {
   "cell_type": "code",
   "execution_count": null,
   "id": "9e8e52fb-5c29-45da-8811-45b64a1512a8",
   "metadata": {},
   "outputs": [],
   "source": [
    "d0 = np.linspace(200, 800, 1000) * u.mm"
   ]
  },
  {
   "cell_type": "code",
   "execution_count": null,
   "id": "828c5c64-859d-4991-a19a-176bd4169e04",
   "metadata": {},
   "outputs": [],
   "source": [
    "f = d0 / (1 + (1/M))"
   ]
  },
  {
   "cell_type": "code",
   "execution_count": null,
   "id": "f4305468-3741-4a12-87ef-5e966aa187c4",
   "metadata": {},
   "outputs": [],
   "source": [
    "cross_point_x = np.where(f < fmin_x)[0][-1]\n",
    "cross_point_diag = np.where(f < fmin_diag)[0][-1]\n",
    "f_cross_x = f[cross_point_x]\n",
    "d_cross_x = d0[cross_point_x]\n",
    "f_cross_diag = f[cross_point_diag]\n",
    "d_cross_diag = d0[cross_point_diag]"
   ]
  },
  {
   "cell_type": "code",
   "execution_count": null,
   "id": "0227d97e-10d2-449b-b5aa-a013ae6f0c49",
   "metadata": {},
   "outputs": [],
   "source": [
    "fig, ax = plt.subplots(1,2,figsize=(12,4))\n",
    "\n",
    "ax[0].plot(d0.to(u.mm), f.to(u.mm), label=f\"Required focal length (M={M})\")\n",
    "ax[0].hlines(y = fmin_x.magnitude, xmin = np.min(d0.to(u.mm)).magnitude, xmax = np.max(d0.to(u.mm)).magnitude, label = \"Minimum focal length\", linestyle='dashed', color=\"#555555\")\n",
    "ax[0].scatter(x = d_cross_x, y = f_cross_x, color = '#663333', label = fr\"$d_0$ = {d_cross_x:0.2f}\")\n",
    "ax[0].vlines(x = 762, ymin=np.min(f.to(u.mm)).magnitude, ymax = np.max(f.to(u.mm)).magnitude, label = \"Chosen object distance\", color='black', linestyle='dotted')\n",
    "ax[0].set_title(\"Using x dimension\")\n",
    "ax[0].set_xlabel(r\"$d_0$ [mm]\")\n",
    "ax[0].set_ylabel(\"f [mm]\")\n",
    "ax[0].legend()\n",
    "\n",
    "ax[1].plot(d0.to(u.mm), f.to(u.mm), label=f\"Required focal length (M={M})\")\n",
    "ax[1].hlines(y = fmin_diag.magnitude, xmin = np.min(d0.to(u.mm)).magnitude, xmax = np.max(d0.to(u.mm)).magnitude, label = \"Minimum focal length\", linestyle='dashed', color=\"#555555\")\n",
    "ax[1].scatter(x = d_cross_diag, y = f_cross_diag, color = '#663333', label = fr\"$d_0$ = {d_cross_diag:0.2f}\")\n",
    "ax[1].vlines(x = 762, ymin=np.min(f.to(u.mm)).magnitude, ymax = np.max(f.to(u.mm)).magnitude, label = \"Chosen object distance\", color='black', linestyle='dotted')\n",
    "\n",
    "ax[1].set_title(\"Using diagonal dimension\")\n",
    "ax[1].set_xlabel(r\"$d_0$ [mm]\")\n",
    "ax[1].set_ylabel(\"f [mm]\")\n",
    "ax[1].legend()\n",
    "plt.tight_layout()\n",
    "fig.savefig(os.path.join(path_results, 'discrete_lens_limitations.pdf'))"
   ]
  },
  {
   "cell_type": "code",
   "execution_count": null,
   "id": "d2ff80e4-ca4c-443e-b756-8c6dc896639e",
   "metadata": {},
   "outputs": [],
   "source": []
  }
 ],
 "metadata": {
  "kernelspec": {
   "display_name": "Python 3 (ipykernel)",
   "language": "python",
   "name": "python3"
  },
  "language_info": {
   "codemirror_mode": {
    "name": "ipython",
    "version": 3
   },
   "file_extension": ".py",
   "mimetype": "text/x-python",
   "name": "python",
   "nbconvert_exporter": "python",
   "pygments_lexer": "ipython3",
   "version": "3.12.2"
  }
 },
 "nbformat": 4,
 "nbformat_minor": 5
}
