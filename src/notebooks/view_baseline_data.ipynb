{
 "cells": [
  {
   "cell_type": "code",
   "execution_count": null,
   "id": "12d0ad6b-f537-49fd-8688-2e0c918fd004",
   "metadata": {},
   "outputs": [],
   "source": [
    "import numpy as np\n",
    "import torch\n",
    "import matplotlib.pyplot as plt\n",
    "import pickle\n",
    "import os"
   ]
  },
  {
   "cell_type": "code",
   "execution_count": null,
   "id": "c15924db-185e-4954-be2c-4132032883aa",
   "metadata": {},
   "outputs": [],
   "source": [
    "print(plt.style.available)\n",
    "plt.style.use('default')"
   ]
  },
  {
   "cell_type": "code",
   "execution_count": null,
   "id": "fa45e7bf-7b66-4f97-ab4b-d385169b63ee",
   "metadata": {},
   "outputs": [],
   "source": [
    "path_root = '/home/mblgh6/Documents/research/cooperative_optimization'\n",
    "path_data = 'data/baseline'\n",
    "files = os.listdir(os.path.join(path_root, path_data))\n",
    "files = [os.path.join(path_root, path_data, f) for f in files if '.pt' in f]\n",
    "files.sort()"
   ]
  },
  {
   "cell_type": "code",
   "execution_count": null,
   "id": "b9f09cf9-0331-40f3-af37-e38e726299da",
   "metadata": {
    "scrolled": true
   },
   "outputs": [],
   "source": [
    "example_sample = torch.load(files[-1])"
   ]
  },
  {
   "cell_type": "code",
   "execution_count": null,
   "id": "af9b8715-0a50-4af6-9f9a-c9ee2a47d8bc",
   "metadata": {},
   "outputs": [],
   "source": [
    "fig,ax = plt.subplots(1,3,figsize=(15,5))\n",
    "ax[0].imshow(example_sample['resampled_sample'], vmin=0, vmax=1)\n",
    "ax[1].imshow(example_sample['sim_output'], vmin=0, vmax=1)\n",
    "ax[2].imshow(example_sample['bench_image'], vmin=0, vmax=1)\n",
    "for a in ax.flatten():\n",
    "    a.grid(False)\n",
    "    a.axis('off')\n",
    "    a.set_title(f\"Target : {torch.argmax(example_sample['target'], dim=-1)}\")\n",
    "plt.tight_layout()"
   ]
  },
  {
   "cell_type": "code",
   "execution_count": null,
   "id": "9db1e4e9-0694-4b25-bb03-0f2f9bf4af84",
   "metadata": {},
   "outputs": [],
   "source": [
    "files[-1]"
   ]
  },
  {
   "cell_type": "code",
   "execution_count": null,
   "id": "75834969-5d73-40f4-996e-6b6033396c57",
   "metadata": {},
   "outputs": [],
   "source": []
  }
 ],
 "metadata": {
  "kernelspec": {
   "display_name": "Python 3 (ipykernel)",
   "language": "python",
   "name": "python3"
  },
  "language_info": {
   "codemirror_mode": {
    "name": "ipython",
    "version": 3
   },
   "file_extension": ".py",
   "mimetype": "text/x-python",
   "name": "python",
   "nbconvert_exporter": "python",
   "pygments_lexer": "ipython3",
   "version": "3.12.2"
  }
 },
 "nbformat": 4,
 "nbformat_minor": 5
}
