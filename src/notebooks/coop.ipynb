{
 "cells": [
  {
   "cell_type": "code",
   "execution_count": null,
   "id": "ac8ac50b-6702-4cc7-b30d-fea7ae3d7a33",
   "metadata": {},
   "outputs": [],
   "source": [
    "import torch\n",
    "import numpy as np\n",
    "import matplotlib.pyplot as plt\n",
    "import yaml\n",
    "import os\n",
    "import csv\n",
    "from sklearn.metrics import confusion_matrix\n",
    "from tqdm.notebook import tqdm\n",
    "import pandas as pd\n",
    "import seaborn as sns\n",
    "import sys\n",
    "from torchmetrics import ConfusionMatrix\n",
    "from torchmetrics.classification import F1Score, Accuracy, Precision, Recall\n",
    "sys.path.append('../')\n",
    "from datamodule.datamodule import select_data"
   ]
  },
  {
   "cell_type": "code",
   "execution_count": null,
   "id": "82c07c39-a944-4ed7-b3cf-f5ac12d1b457",
   "metadata": {},
   "outputs": [],
   "source": [
    "print(plt.style.available)\n",
    "plt.style.use('seaborn-v0_8-dark-palette')"
   ]
  },
  {
   "cell_type": "code",
   "execution_count": null,
   "id": "2422cbc4-6569-4377-bc81-263b0f252330",
   "metadata": {},
   "outputs": [],
   "source": [
    "path_results = '../../results/coop_MNIST_bench_image/'\n",
    "version = 'version_0_copy'"
   ]
  },
  {
   "cell_type": "code",
   "execution_count": null,
   "id": "3de1f1c0-d386-4a10-96c2-842d1151fce5",
   "metadata": {},
   "outputs": [],
   "source": [
    "csv_filename = os.path.join(path_results, version, 'logs', 'metrics.csv')\n",
    "metrics = {}\n",
    "with open(csv_filename) as csvfile:\n",
    "    reader = csv.reader(csvfile, delimiter=',')\n",
    "    for i,row in enumerate(reader):\n",
    "        if i == 0:\n",
    "            for header in row:\n",
    "                metrics[header] = []\n",
    "            key_list = list(metrics.keys())\n",
    "        else:\n",
    "            for j,value in enumerate(row):\n",
    "                metrics[key_list[j]].append(value)"
   ]
  },
  {
   "cell_type": "code",
   "execution_count": null,
   "id": "6dbbec6d-eadf-4ffc-b41e-aef13e2baf33",
   "metadata": {},
   "outputs": [],
   "source": [
    "print(metrics.keys())"
   ]
  },
  {
   "cell_type": "code",
   "execution_count": null,
   "id": "b14bd9a4-ccea-4569-b5a4-d4b8b02fe55e",
   "metadata": {},
   "outputs": [],
   "source": [
    "# Clean up the metrics\n",
    "for key,value in metrics.items():\n",
    "    if key == 'epoch':\n",
    "        metrics[key] = np.unique(np.asarray(value, dtype=int))\n",
    "    elif key == 'step':\n",
    "        pass\n",
    "    else:\n",
    "        metrics[key] = [float(i) for i in value if i != '']"
   ]
  },
  {
   "cell_type": "code",
   "execution_count": null,
   "id": "657b3db0-3305-4837-be51-dbb460af00c0",
   "metadata": {},
   "outputs": [],
   "source": [
    "# Let's just plot all of the metrics in their own plots\n",
    "\n",
    "fig, ax = plt.subplots(len(metrics.keys()) - 2, 1, figsize=(5,25))\n",
    "\n",
    "counter = 0\n",
    "for key, value in metrics.items():\n",
    "    if key == 'epoch' or key == 'step':\n",
    "        pass\n",
    "    else:\n",
    "        ax[counter].plot(metrics['epoch'], metrics[key])\n",
    "        ax[counter].set_title(key)\n",
    "        ax[counter].set_xlabel('epoch')\n",
    "        if 'classifier' in key:\n",
    "            ax[counter].set_ylabel(\"Cross entropy\")\n",
    "        elif key == 'loss_train' or key == 'loss_val':\n",
    "            ax[counter].set_ylabel(\"MCL\")\n",
    "        else:\n",
    "            ax[counter].set_ylabel(\"MSE\")\n",
    "        counter +=1\n",
    "plt.tight_layout()"
   ]
  },
  {
   "cell_type": "code",
   "execution_count": null,
   "id": "6aabfdcb-a010-4541-b013-499b042c6ebd",
   "metadata": {},
   "outputs": [],
   "source": [
    "# Now let's look at the lens phases\n",
    "path_lens_phase = os.path.join(path_results, version, 'lens_phase')\n",
    "files = os.listdir(path_lens_phase)\n",
    "files = [os.path.join(path_lens_phase, i) for i in files]"
   ]
  },
  {
   "cell_type": "code",
   "execution_count": null,
   "id": "c08b9712-2e6d-4cd3-836a-e3a30b8a8867",
   "metadata": {},
   "outputs": [],
   "source": [
    "test = torch.load(files[0], weights_only=True)"
   ]
  },
  {
   "cell_type": "code",
   "execution_count": null,
   "id": "3e3afc89-5061-4120-9fb7-87bb84ee4591",
   "metadata": {
    "scrolled": true
   },
   "outputs": [],
   "source": [
    "fig,ax = plt.subplots(len(files), 1, figsize=(8, 5 * len(files)))\n",
    "\n",
    "for i,f in enumerate(files):\n",
    "    phases = torch.load(f, weights_only=True)\n",
    "    ax[i].imshow(torch.exp(1j*phases.detach().cpu().squeeze()).angle().numpy())\n",
    "    ax[i].axis('off')\n",
    "    ax[i].set_title(f\"Epoch {i+1}\")\n",
    "\n",
    "plt.tight_layout()"
   ]
  },
  {
   "cell_type": "code",
   "execution_count": null,
   "id": "fac8bb7e-8951-4738-bf01-d2bec3eb7e90",
   "metadata": {
    "scrolled": true
   },
   "outputs": [],
   "source": [
    "fig,ax = plt.subplots(len(files), 1, figsize=(8, 5 * len(files)))\n",
    "\n",
    "for i,f in enumerate(files):\n",
    "    phases = torch.load(f, weights_only=True)\n",
    "    ax[i].imshow(phases.detach().cpu().squeeze() % (2 * torch.pi))\n",
    "    ax[i].axis('off')\n",
    "    ax[i].set_title(f\"Epoch {i+1}\")\n",
    "\n",
    "plt.tight_layout()"
   ]
  },
  {
   "cell_type": "code",
   "execution_count": null,
   "id": "6387d252-c2ec-4642-9447-40bcaef0c467",
   "metadata": {},
   "outputs": [],
   "source": [
    "test = torch.load(files[-1], weights_only=True)"
   ]
  },
  {
   "cell_type": "code",
   "execution_count": null,
   "id": "ddffda07-eadc-4d07-b050-b41f293eef69",
   "metadata": {},
   "outputs": [],
   "source": [
    "test1 = test.detach().cpu() % (2 * torch.pi)\n",
    "test2 = torch.exp(1j * test).angle().detach().cpu() + torch.pi"
   ]
  },
  {
   "cell_type": "code",
   "execution_count": null,
   "id": "2682e693-c1c4-42fe-ab4a-713db4c08178",
   "metadata": {
    "scrolled": true
   },
   "outputs": [],
   "source": [
    "fig,ax = plt.subplots(3, 1, figsize=(8, 15))\n",
    "\n",
    "ax[0].imshow(test1, cmap='hsv', vmin=0, vmax=2*np.pi)\n",
    "ax[1].imshow(test2, cmap='hsv', vmin=0, vmax=2*np.pi)\n",
    "ax[2].imshow(torch.abs(test1-test2))"
   ]
  },
  {
   "cell_type": "code",
   "execution_count": null,
   "id": "02fa164b-459a-4b12-83d3-981376f32d4e",
   "metadata": {},
   "outputs": [],
   "source": [
    "print(torch.max(test1))\n",
    "print(torch.min(test1))\n",
    "print(torch.max(test2))\n",
    "print(torch.min(test2))\n",
    "print(torch.max(test1-test2))\n",
    "print(torch.min(test1-test2))"
   ]
  },
  {
   "cell_type": "code",
   "execution_count": null,
   "id": "4c909de9-e154-4fd8-8d34-f2f96a52498a",
   "metadata": {},
   "outputs": [],
   "source": [
    "model_checkpoint = torch.load(os.path.join(path_results, version, 'checkpoints/last.ckpt'), weights_only=True)"
   ]
  },
  {
   "cell_type": "code",
   "execution_count": null,
   "id": "4763a192-c6a3-4450-bd50-682320841afb",
   "metadata": {},
   "outputs": [],
   "source": [
    "initial_phase = model_checkpoint['state_dict']['dom.layers.1.modulator.initial_phase'].detach().squeeze().cpu()\n",
    "print(initial_phase.min())\n",
    "print(initial_phase.max())"
   ]
  },
  {
   "cell_type": "code",
   "execution_count": null,
   "id": "2925d75c-5a24-48a2-a165-c281e89fe0b4",
   "metadata": {},
   "outputs": [],
   "source": [
    "fig,ax = plt.subplots(len(files), 1, figsize=(8, 5 * len(files)))\n",
    "\n",
    "for i,f in enumerate(files):\n",
    "    phases = torch.load(f, weights_only=True).detach().squeeze().cpu()\n",
    "\n",
    "    ax[i].imshow(torch.exp(1j * (phases - initial_phase)).angle(), cmap='hsv')\n",
    "    ax[i].axis('off')\n",
    "    ax[i].set_title(f\"Epoch {i+1}\")\n",
    "\n",
    "plt.tight_layout()"
   ]
  },
  {
   "cell_type": "code",
   "execution_count": null,
   "id": "6f013947-1cc8-4730-acd9-4d6f490b911b",
   "metadata": {},
   "outputs": [],
   "source": []
  }
 ],
 "metadata": {
  "kernelspec": {
   "display_name": "Python 3 (ipykernel)",
   "language": "python",
   "name": "python3"
  },
  "language_info": {
   "codemirror_mode": {
    "name": "ipython",
    "version": 3
   },
   "file_extension": ".py",
   "mimetype": "text/x-python",
   "name": "python",
   "nbconvert_exporter": "python",
   "pygments_lexer": "ipython3",
   "version": "3.12.4"
  }
 },
 "nbformat": 4,
 "nbformat_minor": 5
}
